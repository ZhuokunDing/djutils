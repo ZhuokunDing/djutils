{
 "cells": [
  {
   "cell_type": "markdown",
   "id": "98ef4036-ac61-4570-9d33-653fc7d2a271",
   "metadata": {
    "tags": []
   },
   "source": [
    "# Row-Oriented Programming\n",
    "\n",
    "A fundamental unit of computation in `datajoint` pipelines is a table row. `djutils` provides handy tools for row-oriented programming with `rowproperty`, `cache_rowproperty`, and `keys`.\n",
    "\n",
    "\n",
    "### `rowproperty`\n",
    "\n",
    "This is a decorator for methods of datajoint `tables` and djutils `keys`. It acts in a similar fashion to the python `property` decorator, but beyond that it serves 2 major purposes:\n",
    "\n",
    "\n",
    "1) rowproperties can only be accessed when the table or key object (`self`) is a single `row`\n",
    "    - An error is thrown if `self` is not a single `row`.\n",
    "    - This promotes code safety and readability:\n",
    "        - The code writer can be assured that the `self` is a row (imperative for functions like `self.fetch1` in tables and `self.item` in keys).\n",
    "        - The code reader understands that the `self` within the rowproproperty definition refers to a single row of the table or key object.\n",
    "2) rowproperties can be cached with the `cache_rowproperty` context manager\n",
    "\n",
    "\n",
    "### `cache_rowproperty`\n",
    "\n",
    "This is a context manager that caches rowproperties in memory the first time they are computed. Within this context, rowproperties are only computed once and retrieved from the cache on subsequent calls.\n",
    "\n",
    "\n",
    "### `keys`\n",
    "\n",
    "This is a decorator for classes. This decorator turns the class into a pseudo-table containing the product of primary keys from datajoint tables (can be virtual). This decorator enables row-oriented programming with `rowproperty` and `cache_rowproperty` without having to explicitly create and store tables on the database."
   ]
  },
  {
   "cell_type": "markdown",
   "id": "9f35d4db-a16d-4b93-b41a-574157700778",
   "metadata": {},
   "source": [
    "# Walkthrough"
   ]
  },
  {
   "cell_type": "markdown",
   "id": "e7716d95-108c-47ce-8ff6-517cee545bdd",
   "metadata": {},
   "source": [
    "Let's create a `Scale` lookup table filled that stores variables for scaling data.\n",
    "\n",
    "We'll also define a `transform` method that scales input data by the `scale` value for that row.\n",
    "`transform` will be decorated by `rowproperty` from djutils."
   ]
  },
  {
   "cell_type": "code",
   "execution_count": 1,
   "id": "a6530c27-e615-4b3b-a558-f604c0669a52",
   "metadata": {
    "tags": []
   },
   "outputs": [
    {
     "name": "stdout",
     "output_type": "stream",
     "text": [
      "Connecting ewang@at-database.ad.bcm.edu:3306\n"
     ]
    }
   ],
   "source": [
    "from djutils import Schema, rowproperty\n",
    "\n",
    "schema = Schema(\"djutils_tutorial_1\")\n",
    "\n",
    "\n",
    "@schema.lookup\n",
    "class Scale:\n",
    "    definition = \"\"\"\n",
    "    scale : decimal(6, 3)\n",
    "    \"\"\"\n",
    "    contents = [\n",
    "        [0.5], [1.0], [1.5],\n",
    "    ]\n",
    "    \n",
    "    @rowproperty\n",
    "    def transform(self):\n",
    "        scale = float(self.fetch1(\"scale\"))\n",
    "        print(f\"Loading transform   x -> x * {scale}\")\n",
    "        return lambda x: x * scale"
   ]
  },
  {
   "cell_type": "markdown",
   "id": "00f5ff49-5e12-45ce-a2e5-13e2b2266076",
   "metadata": {},
   "source": [
    "Let's take a look at the `Scale` table that we created, which has 3 rows from `contents`"
   ]
  },
  {
   "cell_type": "code",
   "execution_count": 2,
   "id": "ae01a71b-466e-4e1a-8071-bad6d668c933",
   "metadata": {
    "tags": []
   },
   "outputs": [
    {
     "data": {
      "text/html": [
       "\n",
       "        \n",
       "        <style type=\"text/css\">\n",
       "            .Relation{\n",
       "                border-collapse:collapse;\n",
       "            }\n",
       "            .Relation th{\n",
       "                background: #A0A0A0; color: #ffffff; padding:4px; border:#f0e0e0 1px solid;\n",
       "                font-weight: normal; font-family: monospace; font-size: 100%;\n",
       "            }\n",
       "            .Relation td{\n",
       "                padding:4px; border:#f0e0e0 1px solid; font-size:100%;\n",
       "            }\n",
       "            .Relation tr:nth-child(odd){\n",
       "                background: #ffffff;\n",
       "            }\n",
       "            .Relation tr:nth-child(even){\n",
       "                background: #f3f1ff;\n",
       "            }\n",
       "            /* Tooltip container */\n",
       "            .djtooltip {\n",
       "            }\n",
       "            /* Tooltip text */\n",
       "            .djtooltip .djtooltiptext {\n",
       "                visibility: hidden;\n",
       "                width: 120px;\n",
       "                background-color: black;\n",
       "                color: #fff;\n",
       "                text-align: center;\n",
       "                padding: 5px 0;\n",
       "                border-radius: 6px;\n",
       "                /* Position the tooltip text - see examples below! */\n",
       "                position: absolute;\n",
       "                z-index: 1;\n",
       "            }\n",
       "            #primary {\n",
       "                font-weight: bold;\n",
       "                color: black;\n",
       "            }\n",
       "\n",
       "            #nonprimary {\n",
       "                font-weight: normal;\n",
       "                color: white;\n",
       "            }\n",
       "\n",
       "            /* Show the tooltip text when you mouse over the tooltip container */\n",
       "            .djtooltip:hover .djtooltiptext {\n",
       "                visibility: visible;\n",
       "            }\n",
       "        </style>\n",
       "        \n",
       "        <b></b>\n",
       "            <div style=\"max-height:1000px;max-width:1500px;overflow:auto;\">\n",
       "            <table border=\"1\" class=\"Relation\">\n",
       "                <thead> <tr style=\"text-align: right;\"> <th> <div class=\"djtooltip\">\n",
       "                                <p id=\"primary\">scale</p>\n",
       "                                <span class=\"djtooltiptext\"></span>\n",
       "                            </div> </th> </tr> </thead>\n",
       "                <tbody> <tr> <td>0.500</td></tr><tr><td>1.000</td></tr><tr><td>1.500</td> </tr> </tbody>\n",
       "            </table>\n",
       "            \n",
       "            <p>Total: 3</p></div>\n",
       "            "
      ],
      "text/plain": [
       "*scale   \n",
       "+-------+\n",
       "0.500    \n",
       "1.000    \n",
       "1.500    \n",
       " (Total: 3)"
      ]
     },
     "execution_count": 2,
     "metadata": {},
     "output_type": "execute_result"
    }
   ],
   "source": [
    "Scale()"
   ]
  },
  {
   "cell_type": "markdown",
   "id": "1805b74a-472e-46a1-9eb3-8d063dd79f3f",
   "metadata": {},
   "source": [
    "Let's restrict the `Scale` table to the row where scale = 1.5"
   ]
  },
  {
   "cell_type": "code",
   "execution_count": 3,
   "id": "ac903ae8-1a1d-43ee-9499-09bc85e6bec0",
   "metadata": {
    "tags": []
   },
   "outputs": [
    {
     "data": {
      "text/html": [
       "\n",
       "        \n",
       "        <style type=\"text/css\">\n",
       "            .Relation{\n",
       "                border-collapse:collapse;\n",
       "            }\n",
       "            .Relation th{\n",
       "                background: #A0A0A0; color: #ffffff; padding:4px; border:#f0e0e0 1px solid;\n",
       "                font-weight: normal; font-family: monospace; font-size: 100%;\n",
       "            }\n",
       "            .Relation td{\n",
       "                padding:4px; border:#f0e0e0 1px solid; font-size:100%;\n",
       "            }\n",
       "            .Relation tr:nth-child(odd){\n",
       "                background: #ffffff;\n",
       "            }\n",
       "            .Relation tr:nth-child(even){\n",
       "                background: #f3f1ff;\n",
       "            }\n",
       "            /* Tooltip container */\n",
       "            .djtooltip {\n",
       "            }\n",
       "            /* Tooltip text */\n",
       "            .djtooltip .djtooltiptext {\n",
       "                visibility: hidden;\n",
       "                width: 120px;\n",
       "                background-color: black;\n",
       "                color: #fff;\n",
       "                text-align: center;\n",
       "                padding: 5px 0;\n",
       "                border-radius: 6px;\n",
       "                /* Position the tooltip text - see examples below! */\n",
       "                position: absolute;\n",
       "                z-index: 1;\n",
       "            }\n",
       "            #primary {\n",
       "                font-weight: bold;\n",
       "                color: black;\n",
       "            }\n",
       "\n",
       "            #nonprimary {\n",
       "                font-weight: normal;\n",
       "                color: white;\n",
       "            }\n",
       "\n",
       "            /* Show the tooltip text when you mouse over the tooltip container */\n",
       "            .djtooltip:hover .djtooltiptext {\n",
       "                visibility: visible;\n",
       "            }\n",
       "        </style>\n",
       "        \n",
       "        <b></b>\n",
       "            <div style=\"max-height:1000px;max-width:1500px;overflow:auto;\">\n",
       "            <table border=\"1\" class=\"Relation\">\n",
       "                <thead> <tr style=\"text-align: right;\"> <th> <div class=\"djtooltip\">\n",
       "                                <p id=\"primary\">scale</p>\n",
       "                                <span class=\"djtooltiptext\"></span>\n",
       "                            </div> </th> </tr> </thead>\n",
       "                <tbody> <tr> <td>1.500</td> </tr> </tbody>\n",
       "            </table>\n",
       "            \n",
       "            <p>Total: 1</p></div>\n",
       "            "
      ],
      "text/plain": [
       "*scale   \n",
       "+-------+\n",
       "1.500    \n",
       " (Total: 1)"
      ]
     },
     "execution_count": 3,
     "metadata": {},
     "output_type": "execute_result"
    }
   ],
   "source": [
    "row = Scale & \"scale=1.5\"\n",
    "row"
   ]
  },
  {
   "cell_type": "markdown",
   "id": "61bc4e46-9a5a-445f-8df0-31cc1dbf680c",
   "metadata": {},
   "source": [
    "Let's access the `transform` rowproperty and use it to transform a couple of numbers (2.0 and 3.0)"
   ]
  },
  {
   "cell_type": "code",
   "execution_count": 4,
   "id": "23958dab-79a2-48f2-82b9-193325e4dbe3",
   "metadata": {
    "tags": []
   },
   "outputs": [
    {
     "name": "stdout",
     "output_type": "stream",
     "text": [
      "Loading transform   x -> x * 1.5\n",
      "2.0 -> 3.0\n",
      "3.0 -> 4.5\n"
     ]
    }
   ],
   "source": [
    "transform = row.transform\n",
    "\n",
    "for x in [2.0, 3.0]:\n",
    "    y = transform(x)\n",
    "    print(f\"{x} -> {y}\")"
   ]
  },
  {
   "cell_type": "markdown",
   "id": "47b38d49-07f5-4bab-870f-0aeadb3c53af",
   "metadata": {},
   "source": [
    "Notice how if we try to access `transform` when `Scale` is not restricted to a single row, we will get a djutils `RestrictionError`"
   ]
  },
  {
   "cell_type": "code",
   "execution_count": 5,
   "id": "4217fc23-47b3-41c2-8470-b19f9ab42876",
   "metadata": {
    "tags": []
   },
   "outputs": [
    {
     "data": {
      "text/html": [
       "\n",
       "        \n",
       "        <style type=\"text/css\">\n",
       "            .Relation{\n",
       "                border-collapse:collapse;\n",
       "            }\n",
       "            .Relation th{\n",
       "                background: #A0A0A0; color: #ffffff; padding:4px; border:#f0e0e0 1px solid;\n",
       "                font-weight: normal; font-family: monospace; font-size: 100%;\n",
       "            }\n",
       "            .Relation td{\n",
       "                padding:4px; border:#f0e0e0 1px solid; font-size:100%;\n",
       "            }\n",
       "            .Relation tr:nth-child(odd){\n",
       "                background: #ffffff;\n",
       "            }\n",
       "            .Relation tr:nth-child(even){\n",
       "                background: #f3f1ff;\n",
       "            }\n",
       "            /* Tooltip container */\n",
       "            .djtooltip {\n",
       "            }\n",
       "            /* Tooltip text */\n",
       "            .djtooltip .djtooltiptext {\n",
       "                visibility: hidden;\n",
       "                width: 120px;\n",
       "                background-color: black;\n",
       "                color: #fff;\n",
       "                text-align: center;\n",
       "                padding: 5px 0;\n",
       "                border-radius: 6px;\n",
       "                /* Position the tooltip text - see examples below! */\n",
       "                position: absolute;\n",
       "                z-index: 1;\n",
       "            }\n",
       "            #primary {\n",
       "                font-weight: bold;\n",
       "                color: black;\n",
       "            }\n",
       "\n",
       "            #nonprimary {\n",
       "                font-weight: normal;\n",
       "                color: white;\n",
       "            }\n",
       "\n",
       "            /* Show the tooltip text when you mouse over the tooltip container */\n",
       "            .djtooltip:hover .djtooltiptext {\n",
       "                visibility: visible;\n",
       "            }\n",
       "        </style>\n",
       "        \n",
       "        <b></b>\n",
       "            <div style=\"max-height:1000px;max-width:1500px;overflow:auto;\">\n",
       "            <table border=\"1\" class=\"Relation\">\n",
       "                <thead> <tr style=\"text-align: right;\"> <th> <div class=\"djtooltip\">\n",
       "                                <p id=\"primary\">scale</p>\n",
       "                                <span class=\"djtooltiptext\"></span>\n",
       "                            </div> </th> </tr> </thead>\n",
       "                <tbody> <tr> <td>1.000</td></tr><tr><td>1.500</td> </tr> </tbody>\n",
       "            </table>\n",
       "            \n",
       "            <p>Total: 2</p></div>\n",
       "            "
      ],
      "text/plain": [
       "*scale   \n",
       "+-------+\n",
       "1.000    \n",
       "1.500    \n",
       " (Total: 2)"
      ]
     },
     "metadata": {},
     "output_type": "display_data"
    },
    {
     "name": "stdout",
     "output_type": "stream",
     "text": [
      "Trying to access transform\n"
     ]
    },
    {
     "ename": "RestrictionError",
     "evalue": "Table must be restricted to single row.",
     "output_type": "error",
     "traceback": [
      "\u001b[0;31m---------------------------------------------------------------------------\u001b[0m",
      "\u001b[0;31mRestrictionError\u001b[0m                          Traceback (most recent call last)",
      "Cell \u001b[0;32mIn[5], line 5\u001b[0m\n\u001b[1;32m      2\u001b[0m display(rows)\n\u001b[1;32m      4\u001b[0m \u001b[38;5;28mprint\u001b[39m(\u001b[38;5;124m\"\u001b[39m\u001b[38;5;124mTrying to access transform\u001b[39m\u001b[38;5;124m\"\u001b[39m)\n\u001b[0;32m----> 5\u001b[0m transform \u001b[38;5;241m=\u001b[39m \u001b[43mrows\u001b[49m\u001b[38;5;241;43m.\u001b[39;49m\u001b[43mtransform\u001b[49m\n",
      "File \u001b[0;32m/src/djutils/djutils/rows.py:27\u001b[0m, in \u001b[0;36mrowproperty.<locals>._method\u001b[0;34m(self)\u001b[0m\n\u001b[1;32m     23\u001b[0m \u001b[38;5;129m@wraps\u001b[39m(method)\n\u001b[1;32m     24\u001b[0m \u001b[38;5;28;01mdef\u001b[39;00m \u001b[38;5;21m_method\u001b[39m(\u001b[38;5;28mself\u001b[39m):\n\u001b[1;32m     26\u001b[0m     \u001b[38;5;28;01mif\u001b[39;00m \u001b[38;5;28mlen\u001b[39m(\u001b[38;5;28mself\u001b[39m) \u001b[38;5;241m!=\u001b[39m \u001b[38;5;241m1\u001b[39m:\n\u001b[0;32m---> 27\u001b[0m         \u001b[38;5;28;01mraise\u001b[39;00m RestrictionError(\u001b[38;5;124m\"\u001b[39m\u001b[38;5;124mTable must be restricted to single row.\u001b[39m\u001b[38;5;124m\"\u001b[39m)\n\u001b[1;32m     29\u001b[0m     \u001b[38;5;28;01mif\u001b[39;00m cache\u001b[38;5;241m.\u001b[39mrowproperty \u001b[38;5;129;01mis\u001b[39;00m \u001b[38;5;28;01mNone\u001b[39;00m:\n\u001b[1;32m     30\u001b[0m         \u001b[38;5;28;01mreturn\u001b[39;00m method(\u001b[38;5;28mself\u001b[39m)\n",
      "\u001b[0;31mRestrictionError\u001b[0m: Table must be restricted to single row."
     ]
    }
   ],
   "source": [
    "rows = Scale & \"scale in (1, 1.5)\"\n",
    "display(rows)\n",
    "\n",
    "print(\"Trying to access transform\")\n",
    "transform = rows.transform"
   ]
  },
  {
   "cell_type": "markdown",
   "id": "ec1e74d1-629b-4e9b-8c16-27eb85e34975",
   "metadata": {},
   "source": [
    "---\n",
    "Now, let's create a lookup table `X` for the variable `x`\n",
    "\n",
    "And a computed table `Y` scales `x` using the rowproperty `transform` and stores the result as `y`"
   ]
  },
  {
   "cell_type": "code",
   "execution_count": 6,
   "id": "483f5814-213c-4d08-8a9e-6f04f9d5a0a7",
   "metadata": {
    "tags": []
   },
   "outputs": [],
   "source": [
    "@schema.lookup\n",
    "class X:\n",
    "    definition = \"\"\"\n",
    "    x : float\n",
    "    \"\"\"\n",
    "    contents = [\n",
    "        [1.0], [2.0], [3.0], [4.0],\n",
    "    ]\n",
    "    \n",
    "@schema.computed\n",
    "class Y:\n",
    "    definition = \"\"\"\n",
    "    -> X\n",
    "    -> Scale\n",
    "    ---\n",
    "    y : float\n",
    "    \"\"\"\n",
    "    \n",
    "    def make(self, key):\n",
    "        key[\"y\"] = (Scale & key).transform(key[\"x\"])\n",
    "        self.insert1(key)"
   ]
  },
  {
   "cell_type": "markdown",
   "id": "27eb7d59-a94f-4ad0-82a4-436623100abe",
   "metadata": {},
   "source": [
    "Let's populate `Y` using the scaling factor 0.5"
   ]
  },
  {
   "cell_type": "code",
   "execution_count": 7,
   "id": "84b6dee2-9bb6-4dad-a960-37eab50e52c5",
   "metadata": {
    "tags": []
   },
   "outputs": [
    {
     "name": "stdout",
     "output_type": "stream",
     "text": [
      "Loading transform   x -> x * 0.5\n",
      "Loading transform   x -> x * 0.5\n",
      "Loading transform   x -> x * 0.5\n",
      "Loading transform   x -> x * 0.5\n"
     ]
    },
    {
     "data": {
      "text/html": [
       "\n",
       "        \n",
       "        <style type=\"text/css\">\n",
       "            .Relation{\n",
       "                border-collapse:collapse;\n",
       "            }\n",
       "            .Relation th{\n",
       "                background: #A0A0A0; color: #ffffff; padding:4px; border:#f0e0e0 1px solid;\n",
       "                font-weight: normal; font-family: monospace; font-size: 100%;\n",
       "            }\n",
       "            .Relation td{\n",
       "                padding:4px; border:#f0e0e0 1px solid; font-size:100%;\n",
       "            }\n",
       "            .Relation tr:nth-child(odd){\n",
       "                background: #ffffff;\n",
       "            }\n",
       "            .Relation tr:nth-child(even){\n",
       "                background: #f3f1ff;\n",
       "            }\n",
       "            /* Tooltip container */\n",
       "            .djtooltip {\n",
       "            }\n",
       "            /* Tooltip text */\n",
       "            .djtooltip .djtooltiptext {\n",
       "                visibility: hidden;\n",
       "                width: 120px;\n",
       "                background-color: black;\n",
       "                color: #fff;\n",
       "                text-align: center;\n",
       "                padding: 5px 0;\n",
       "                border-radius: 6px;\n",
       "                /* Position the tooltip text - see examples below! */\n",
       "                position: absolute;\n",
       "                z-index: 1;\n",
       "            }\n",
       "            #primary {\n",
       "                font-weight: bold;\n",
       "                color: black;\n",
       "            }\n",
       "\n",
       "            #nonprimary {\n",
       "                font-weight: normal;\n",
       "                color: white;\n",
       "            }\n",
       "\n",
       "            /* Show the tooltip text when you mouse over the tooltip container */\n",
       "            .djtooltip:hover .djtooltiptext {\n",
       "                visibility: visible;\n",
       "            }\n",
       "        </style>\n",
       "        \n",
       "        <b></b>\n",
       "            <div style=\"max-height:1000px;max-width:1500px;overflow:auto;\">\n",
       "            <table border=\"1\" class=\"Relation\">\n",
       "                <thead> <tr style=\"text-align: right;\"> <th> <div class=\"djtooltip\">\n",
       "                                <p id=\"primary\">x</p>\n",
       "                                <span class=\"djtooltiptext\"></span>\n",
       "                            </div></th><th><div class=\"djtooltip\">\n",
       "                                <p id=\"primary\">scale</p>\n",
       "                                <span class=\"djtooltiptext\"></span>\n",
       "                            </div></th><th><div class=\"djtooltip\">\n",
       "                                <p id=\"nonprimary\">y</p>\n",
       "                                <span class=\"djtooltiptext\"></span>\n",
       "                            </div> </th> </tr> </thead>\n",
       "                <tbody> <tr> <td>1.0</td>\n",
       "<td>0.500</td>\n",
       "<td>0.5</td></tr><tr><td>2.0</td>\n",
       "<td>0.500</td>\n",
       "<td>1.0</td></tr><tr><td>3.0</td>\n",
       "<td>0.500</td>\n",
       "<td>1.5</td></tr><tr><td>4.0</td>\n",
       "<td>0.500</td>\n",
       "<td>2.0</td> </tr> </tbody>\n",
       "            </table>\n",
       "            \n",
       "            <p>Total: 4</p></div>\n",
       "            "
      ],
      "text/plain": [
       "*x      *scale    y      \n",
       "+-----+ +-------+ +-----+\n",
       "1.0     0.500     0.5    \n",
       "2.0     0.500     1.0    \n",
       "3.0     0.500     1.5    \n",
       "4.0     0.500     2.0    \n",
       " (Total: 4)"
      ]
     },
     "execution_count": 7,
     "metadata": {},
     "output_type": "execute_result"
    }
   ],
   "source": [
    "Y.populate('scale = 0.5')\n",
    "\n",
    "Y & 'scale = 0.5'"
   ]
  },
  {
   "cell_type": "markdown",
   "id": "ab018979-bf02-4c21-8cbe-d1778e43af72",
   "metadata": {},
   "source": [
    "Notice how, during the population of the 4 rows, the same transform `x * 0.5` was loaded 4 times in the `make` function of `Y`.\n",
    "\n",
    "---\n",
    "\n",
    "Can we avoid this unnecessary computation?\n",
    "\n",
    "Solution : `cache_rowproperty`\n",
    "\n",
    "Within the context of `cache_rowproperty`, rowproperties are stored in memory and only need to be computed once.\n",
    "\n",
    "Using `cache_rowproperty`, let's populate `Y` using the scaling factor 1.5"
   ]
  },
  {
   "cell_type": "code",
   "execution_count": 8,
   "id": "3ef02a05-e064-4811-b6ff-2901563bc19d",
   "metadata": {
    "tags": []
   },
   "outputs": [
    {
     "name": "stdout",
     "output_type": "stream",
     "text": [
      "Loading transform   x -> x * 1.5\n"
     ]
    },
    {
     "data": {
      "text/html": [
       "\n",
       "        \n",
       "        <style type=\"text/css\">\n",
       "            .Relation{\n",
       "                border-collapse:collapse;\n",
       "            }\n",
       "            .Relation th{\n",
       "                background: #A0A0A0; color: #ffffff; padding:4px; border:#f0e0e0 1px solid;\n",
       "                font-weight: normal; font-family: monospace; font-size: 100%;\n",
       "            }\n",
       "            .Relation td{\n",
       "                padding:4px; border:#f0e0e0 1px solid; font-size:100%;\n",
       "            }\n",
       "            .Relation tr:nth-child(odd){\n",
       "                background: #ffffff;\n",
       "            }\n",
       "            .Relation tr:nth-child(even){\n",
       "                background: #f3f1ff;\n",
       "            }\n",
       "            /* Tooltip container */\n",
       "            .djtooltip {\n",
       "            }\n",
       "            /* Tooltip text */\n",
       "            .djtooltip .djtooltiptext {\n",
       "                visibility: hidden;\n",
       "                width: 120px;\n",
       "                background-color: black;\n",
       "                color: #fff;\n",
       "                text-align: center;\n",
       "                padding: 5px 0;\n",
       "                border-radius: 6px;\n",
       "                /* Position the tooltip text - see examples below! */\n",
       "                position: absolute;\n",
       "                z-index: 1;\n",
       "            }\n",
       "            #primary {\n",
       "                font-weight: bold;\n",
       "                color: black;\n",
       "            }\n",
       "\n",
       "            #nonprimary {\n",
       "                font-weight: normal;\n",
       "                color: white;\n",
       "            }\n",
       "\n",
       "            /* Show the tooltip text when you mouse over the tooltip container */\n",
       "            .djtooltip:hover .djtooltiptext {\n",
       "                visibility: visible;\n",
       "            }\n",
       "        </style>\n",
       "        \n",
       "        <b></b>\n",
       "            <div style=\"max-height:1000px;max-width:1500px;overflow:auto;\">\n",
       "            <table border=\"1\" class=\"Relation\">\n",
       "                <thead> <tr style=\"text-align: right;\"> <th> <div class=\"djtooltip\">\n",
       "                                <p id=\"primary\">x</p>\n",
       "                                <span class=\"djtooltiptext\"></span>\n",
       "                            </div></th><th><div class=\"djtooltip\">\n",
       "                                <p id=\"primary\">scale</p>\n",
       "                                <span class=\"djtooltiptext\"></span>\n",
       "                            </div></th><th><div class=\"djtooltip\">\n",
       "                                <p id=\"nonprimary\">y</p>\n",
       "                                <span class=\"djtooltiptext\"></span>\n",
       "                            </div> </th> </tr> </thead>\n",
       "                <tbody> <tr> <td>1.0</td>\n",
       "<td>1.500</td>\n",
       "<td>1.5</td></tr><tr><td>2.0</td>\n",
       "<td>1.500</td>\n",
       "<td>3.0</td></tr><tr><td>3.0</td>\n",
       "<td>1.500</td>\n",
       "<td>4.5</td></tr><tr><td>4.0</td>\n",
       "<td>1.500</td>\n",
       "<td>6.0</td> </tr> </tbody>\n",
       "            </table>\n",
       "            \n",
       "            <p>Total: 4</p></div>\n",
       "            "
      ],
      "text/plain": [
       "*x      *scale    y      \n",
       "+-----+ +-------+ +-----+\n",
       "1.0     1.500     1.5    \n",
       "2.0     1.500     3.0    \n",
       "3.0     1.500     4.5    \n",
       "4.0     1.500     6.0    \n",
       " (Total: 4)"
      ]
     },
     "execution_count": 8,
     "metadata": {},
     "output_type": "execute_result"
    }
   ],
   "source": [
    "from djutils import cache_rowproperty\n",
    "\n",
    "with cache_rowproperty():\n",
    "    Y.populate('scale = 1.5')\n",
    "    \n",
    "Y & 'scale = 1.5'"
   ]
  },
  {
   "cell_type": "markdown",
   "id": "a4a652a4-947f-46bb-8247-62b03f78035d",
   "metadata": {
    "tags": []
   },
   "source": [
    "Notice how trasform was only loaded once, despite it being accessed 4 times in the `make` function of `Y`\n",
    "\n",
    "----\n",
    "\n",
    "Now, let's say that you want to compose the scaling transformation with an offset variable, stored in an `Offset` table"
   ]
  },
  {
   "cell_type": "code",
   "execution_count": 9,
   "id": "34dfb44a-ef2d-40f3-99ed-59e868bda5af",
   "metadata": {
    "tags": []
   },
   "outputs": [],
   "source": [
    "@schema.lookup\n",
    "class Offset:\n",
    "    definition = \"\"\"\n",
    "    offset : decimal(6, 3)\n",
    "    \"\"\"\n",
    "    contents = [\n",
    "        [0.0], [0.1], [0.2],\n",
    "    ]"
   ]
  },
  {
   "cell_type": "markdown",
   "id": "917ffb0c-f877-473e-b841-e57d3ab064c0",
   "metadata": {},
   "source": [
    "One option would be to create a `ScaleOffsetTable` lookup table and insert all of the keys from `Scale` and `Offset` into `ScaleOffsetTable`, and define a `transform` rowproperty that uses the `scale` and `offset` variables."
   ]
  },
  {
   "cell_type": "code",
   "execution_count": 10,
   "id": "5de5bfb9-ae6a-4b04-aa46-7cd975e7fc61",
   "metadata": {
    "tags": []
   },
   "outputs": [],
   "source": [
    "@schema.lookup\n",
    "class ScaleOffsetTable:\n",
    "    definition = \"\"\"\n",
    "    -> Scale\n",
    "    -> Offset\n",
    "    \"\"\"\n",
    "    \n",
    "    @property\n",
    "    def contents(self):\n",
    "        return Scale * Offset\n",
    "    \n",
    "    @rowproperty\n",
    "    def transform(self):\n",
    "        scale, offset = map(float, (self.fetch1(\"scale\", \"offset\")))\n",
    "        print(f\"Loading transform   x -> x * {scale} + {offset}\")\n",
    "        return lambda x: x * scale + offset"
   ]
  },
  {
   "cell_type": "markdown",
   "id": "70ea8f41-8f1a-4ef4-a2bc-755c5c5a139f",
   "metadata": {},
   "source": [
    "We can see that our table has 9 rows (3 scale x 3 offset)"
   ]
  },
  {
   "cell_type": "code",
   "execution_count": 11,
   "id": "4466dd8d-7794-4e83-b555-28847372e46b",
   "metadata": {
    "tags": []
   },
   "outputs": [
    {
     "data": {
      "text/html": [
       "\n",
       "        \n",
       "        <style type=\"text/css\">\n",
       "            .Relation{\n",
       "                border-collapse:collapse;\n",
       "            }\n",
       "            .Relation th{\n",
       "                background: #A0A0A0; color: #ffffff; padding:4px; border:#f0e0e0 1px solid;\n",
       "                font-weight: normal; font-family: monospace; font-size: 100%;\n",
       "            }\n",
       "            .Relation td{\n",
       "                padding:4px; border:#f0e0e0 1px solid; font-size:100%;\n",
       "            }\n",
       "            .Relation tr:nth-child(odd){\n",
       "                background: #ffffff;\n",
       "            }\n",
       "            .Relation tr:nth-child(even){\n",
       "                background: #f3f1ff;\n",
       "            }\n",
       "            /* Tooltip container */\n",
       "            .djtooltip {\n",
       "            }\n",
       "            /* Tooltip text */\n",
       "            .djtooltip .djtooltiptext {\n",
       "                visibility: hidden;\n",
       "                width: 120px;\n",
       "                background-color: black;\n",
       "                color: #fff;\n",
       "                text-align: center;\n",
       "                padding: 5px 0;\n",
       "                border-radius: 6px;\n",
       "                /* Position the tooltip text - see examples below! */\n",
       "                position: absolute;\n",
       "                z-index: 1;\n",
       "            }\n",
       "            #primary {\n",
       "                font-weight: bold;\n",
       "                color: black;\n",
       "            }\n",
       "\n",
       "            #nonprimary {\n",
       "                font-weight: normal;\n",
       "                color: white;\n",
       "            }\n",
       "\n",
       "            /* Show the tooltip text when you mouse over the tooltip container */\n",
       "            .djtooltip:hover .djtooltiptext {\n",
       "                visibility: visible;\n",
       "            }\n",
       "        </style>\n",
       "        \n",
       "        <b></b>\n",
       "            <div style=\"max-height:1000px;max-width:1500px;overflow:auto;\">\n",
       "            <table border=\"1\" class=\"Relation\">\n",
       "                <thead> <tr style=\"text-align: right;\"> <th> <div class=\"djtooltip\">\n",
       "                                <p id=\"primary\">scale</p>\n",
       "                                <span class=\"djtooltiptext\"></span>\n",
       "                            </div></th><th><div class=\"djtooltip\">\n",
       "                                <p id=\"primary\">offset</p>\n",
       "                                <span class=\"djtooltiptext\"></span>\n",
       "                            </div> </th> </tr> </thead>\n",
       "                <tbody> <tr> <td>0.500</td>\n",
       "<td>0.000</td></tr><tr><td>1.000</td>\n",
       "<td>0.000</td></tr><tr><td>1.500</td>\n",
       "<td>0.000</td></tr><tr><td>0.500</td>\n",
       "<td>0.100</td></tr><tr><td>1.000</td>\n",
       "<td>0.100</td></tr><tr><td>1.500</td>\n",
       "<td>0.100</td></tr><tr><td>0.500</td>\n",
       "<td>0.200</td></tr><tr><td>1.000</td>\n",
       "<td>0.200</td></tr><tr><td>1.500</td>\n",
       "<td>0.200</td> </tr> </tbody>\n",
       "            </table>\n",
       "            \n",
       "            <p>Total: 9</p></div>\n",
       "            "
      ],
      "text/plain": [
       "*scale    *offset   \n",
       "+-------+ +--------+\n",
       "0.500     0.000     \n",
       "1.000     0.000     \n",
       "1.500     0.000     \n",
       "0.500     0.100     \n",
       "1.000     0.100     \n",
       "1.500     0.100     \n",
       "0.500     0.200     \n",
       "1.000     0.200     \n",
       "1.500     0.200     \n",
       " (Total: 9)"
      ]
     },
     "execution_count": 11,
     "metadata": {},
     "output_type": "execute_result"
    }
   ],
   "source": [
    "ScaleOffsetTable()"
   ]
  },
  {
   "cell_type": "markdown",
   "id": "0c79ec79-2316-4d16-b29d-bbb881781877",
   "metadata": {},
   "source": [
    "And we can use the `transform` rowproperty of `ScaleOffsetTable`"
   ]
  },
  {
   "cell_type": "code",
   "execution_count": 12,
   "id": "5e68c37b-b91a-48f3-a208-2a94ef549261",
   "metadata": {
    "tags": []
   },
   "outputs": [
    {
     "name": "stdout",
     "output_type": "stream",
     "text": [
      "Loading transform   x -> x * 1.0 + 0.1\n",
      "4.0 -> 4.1\n"
     ]
    }
   ],
   "source": [
    "transform = (ScaleOffsetTable & 'scale=1 and offset=0.1').transform\n",
    "x = 4.0\n",
    "y = transform(x)\n",
    "print(f\"{x} -> {y}\")"
   ]
  },
  {
   "cell_type": "markdown",
   "id": "16b98a55-e6e7-4552-9a42-f59a11f15dc0",
   "metadata": {},
   "source": [
    "But isn't it wasteful and unnecessary to create the table `ScaleOffsetTable`, which is just the product of `Scale` and `Offset`?\n",
    "\n",
    "How can we use the programming approach of `rowproperty` and `cache_rowproperty` without wasting database storage on the product of tables?\n",
    "\n",
    "---\n",
    "\n",
    "Solution: `keys`\n",
    "\n",
    "This is a decorator that turns a class into a table-like object.\n",
    "\n",
    "The decorated class must define a `keys` property that returns a list of tables (can be virtual). The decorator will join the primary keys of those tables, which produces a set of rows for the user to work with.\n",
    "\n",
    "We will also define a `transform` rowproperty that performs the same function as the previous example. However, unlike the previous example where we used up database storage to create and fill a table with the 9 rows, `keys` enables users to perform class-based, row-oriented programming without having to create and fill tables on the database."
   ]
  },
  {
   "cell_type": "code",
   "execution_count": 13,
   "id": "7c215aa7-5f22-4044-9df1-e731d2d1cbf7",
   "metadata": {
    "tags": []
   },
   "outputs": [],
   "source": [
    "from djutils import keys\n",
    "\n",
    "@keys\n",
    "class ScaleOffsetKey:\n",
    "    \n",
    "    @property\n",
    "    def keys(self):\n",
    "        return [Scale, Offset]\n",
    "    \n",
    "    @rowproperty\n",
    "    def transform(self):\n",
    "        scale = float(self.item[\"scale\"])\n",
    "        offset = float(self.item[\"offset\"])\n",
    "        print(f\"Loading transform   x -> x * {scale} + {offset}\")\n",
    "        return lambda x: x * scale + offset"
   ]
  },
  {
   "cell_type": "code",
   "execution_count": 14,
   "id": "742d4f9b-0b79-4f3c-86d7-8e1420809013",
   "metadata": {
    "tags": []
   },
   "outputs": [
    {
     "data": {
      "text/plain": [
       "9 x ['scale', 'offset']"
      ]
     },
     "execution_count": 14,
     "metadata": {},
     "output_type": "execute_result"
    }
   ],
   "source": [
    "ScaleOffsetKey()"
   ]
  },
  {
   "cell_type": "markdown",
   "id": "5f632cec-6b42-4c57-b6bc-a1a4b1f8080e",
   "metadata": {},
   "source": [
    "`primary_key` gives you the primary keys of the joined tables"
   ]
  },
  {
   "cell_type": "code",
   "execution_count": 15,
   "id": "d361deb8-62f8-45e8-94b6-dc7a40d48031",
   "metadata": {
    "tags": []
   },
   "outputs": [
    {
     "data": {
      "text/plain": [
       "['scale', 'offset']"
      ]
     },
     "execution_count": 15,
     "metadata": {},
     "output_type": "execute_result"
    }
   ],
   "source": [
    "ScaleOffsetKey.primary_key"
   ]
  },
  {
   "cell_type": "markdown",
   "id": "28b1e5af-22b3-4fba-b2e3-199d3fe37dd9",
   "metadata": {},
   "source": [
    "The decorated class can be restricted just like a normal datajoint table"
   ]
  },
  {
   "cell_type": "code",
   "execution_count": 16,
   "id": "9f8ccab4-8af0-4a7e-8a01-3bd486606e41",
   "metadata": {
    "tags": []
   },
   "outputs": [
    {
     "data": {
      "text/plain": [
       "3 x ['scale', 'offset']"
      ]
     },
     "execution_count": 16,
     "metadata": {},
     "output_type": "execute_result"
    }
   ],
   "source": [
    "ScaleOffsetKey & 'scale = 0.5'"
   ]
  },
  {
   "cell_type": "markdown",
   "id": "104ce82c-1d9d-4c0e-bb95-61c9a6838e2f",
   "metadata": {},
   "source": [
    "`key` gives you the underlying table product"
   ]
  },
  {
   "cell_type": "code",
   "execution_count": 17,
   "id": "e0105fa0-5ae9-422c-acfc-aba31749ca03",
   "metadata": {
    "tags": []
   },
   "outputs": [
    {
     "data": {
      "text/html": [
       "\n",
       "        \n",
       "        <style type=\"text/css\">\n",
       "            .Relation{\n",
       "                border-collapse:collapse;\n",
       "            }\n",
       "            .Relation th{\n",
       "                background: #A0A0A0; color: #ffffff; padding:4px; border:#f0e0e0 1px solid;\n",
       "                font-weight: normal; font-family: monospace; font-size: 100%;\n",
       "            }\n",
       "            .Relation td{\n",
       "                padding:4px; border:#f0e0e0 1px solid; font-size:100%;\n",
       "            }\n",
       "            .Relation tr:nth-child(odd){\n",
       "                background: #ffffff;\n",
       "            }\n",
       "            .Relation tr:nth-child(even){\n",
       "                background: #f3f1ff;\n",
       "            }\n",
       "            /* Tooltip container */\n",
       "            .djtooltip {\n",
       "            }\n",
       "            /* Tooltip text */\n",
       "            .djtooltip .djtooltiptext {\n",
       "                visibility: hidden;\n",
       "                width: 120px;\n",
       "                background-color: black;\n",
       "                color: #fff;\n",
       "                text-align: center;\n",
       "                padding: 5px 0;\n",
       "                border-radius: 6px;\n",
       "                /* Position the tooltip text - see examples below! */\n",
       "                position: absolute;\n",
       "                z-index: 1;\n",
       "            }\n",
       "            #primary {\n",
       "                font-weight: bold;\n",
       "                color: black;\n",
       "            }\n",
       "\n",
       "            #nonprimary {\n",
       "                font-weight: normal;\n",
       "                color: white;\n",
       "            }\n",
       "\n",
       "            /* Show the tooltip text when you mouse over the tooltip container */\n",
       "            .djtooltip:hover .djtooltiptext {\n",
       "                visibility: visible;\n",
       "            }\n",
       "        </style>\n",
       "        \n",
       "        \n",
       "            <div style=\"max-height:1000px;max-width:1500px;overflow:auto;\">\n",
       "            <table border=\"1\" class=\"Relation\">\n",
       "                <thead> <tr style=\"text-align: right;\"> <th> <div class=\"djtooltip\">\n",
       "                                <p id=\"primary\">scale</p>\n",
       "                                <span class=\"djtooltiptext\"></span>\n",
       "                            </div></th><th><div class=\"djtooltip\">\n",
       "                                <p id=\"primary\">offset</p>\n",
       "                                <span class=\"djtooltiptext\"></span>\n",
       "                            </div> </th> </tr> </thead>\n",
       "                <tbody> <tr> <td>0.500</td>\n",
       "<td>0.000</td></tr><tr><td>0.500</td>\n",
       "<td>0.100</td></tr><tr><td>0.500</td>\n",
       "<td>0.200</td> </tr> </tbody>\n",
       "            </table>\n",
       "            \n",
       "            <p>Total: 3</p></div>\n",
       "            "
      ],
      "text/plain": [
       "*scale    *offset   \n",
       "+-------+ +--------+\n",
       "0.500     0.000     \n",
       "0.500     0.100     \n",
       "0.500     0.200     \n",
       " (Total: 3)"
      ]
     },
     "execution_count": 17,
     "metadata": {},
     "output_type": "execute_result"
    }
   ],
   "source": [
    "(ScaleOffsetKey & 'scale = 0.5').key"
   ]
  },
  {
   "cell_type": "markdown",
   "id": "61e4dd59-8015-4e1a-9828-e191f87e1dba",
   "metadata": {},
   "source": [
    "When restricted to a single row, `item` gives you a dictionary of the row"
   ]
  },
  {
   "cell_type": "code",
   "execution_count": 18,
   "id": "641c095f-f534-4c29-9628-7d81a0d461ea",
   "metadata": {
    "tags": []
   },
   "outputs": [
    {
     "data": {
      "text/plain": [
       "{'scale': Decimal('0.500'), 'offset': Decimal('0.100')}"
      ]
     },
     "execution_count": 18,
     "metadata": {},
     "output_type": "execute_result"
    }
   ],
   "source": [
    "(ScaleOffsetKey & 'scale = 0.5 and offset = 0.1').item"
   ]
  },
  {
   "cell_type": "markdown",
   "id": "f56eed70-376e-4256-b75c-4eaeccdcdca1",
   "metadata": {},
   "source": [
    "And just like normal tables, `rowproperty` and `cache_rowproperty` will work for classes decorated with `keys`."
   ]
  },
  {
   "cell_type": "code",
   "execution_count": 19,
   "id": "7fcb72a8-9d25-41a5-b8fe-4cd6496da4ac",
   "metadata": {
    "tags": []
   },
   "outputs": [
    {
     "name": "stdout",
     "output_type": "stream",
     "text": [
      "\n",
      "------- Transforming WITHOUT cacheing-------\n",
      "\n",
      "Loading transform   x -> x * 0.5 + 0.1\n",
      "0 -> 0.1\n",
      "Loading transform   x -> x * 0.5 + 0.1\n",
      "1 -> 0.6\n",
      "Loading transform   x -> x * 0.5 + 0.1\n",
      "2 -> 1.1\n",
      "\n",
      "------- Transforming WITH cacheing-------\n",
      "\n",
      "Loading transform   x -> x * 0.5 + 0.1\n",
      "0 -> 0.1\n",
      "1 -> 0.6\n",
      "2 -> 1.1\n"
     ]
    }
   ],
   "source": [
    "print(\"\\n------- Transforming WITHOUT cacheing-------\\n\")\n",
    "for x in range(3):\n",
    "    y = (ScaleOffset & 'scale = 0.5 and offset = 0.1').transform(x)\n",
    "    print(f\"{x} -> {y}\")\n",
    "    \n",
    "    \n",
    "print(\"\\n------- Transforming WITH cacheing-------\\n\")\n",
    "with cache_rowproperty():\n",
    "    for x in range(3):\n",
    "        y = (ScaleOffset & 'scale = 0.5 and offset = 0.1').transform(x)\n",
    "        print(f\"{x} -> {y}\")"
   ]
  }
 ],
 "metadata": {
  "kernelspec": {
   "display_name": "Python 3 (ipykernel)",
   "language": "python",
   "name": "python3"
  },
  "language_info": {
   "codemirror_mode": {
    "name": "ipython",
    "version": 3
   },
   "file_extension": ".py",
   "mimetype": "text/x-python",
   "name": "python",
   "nbconvert_exporter": "python",
   "pygments_lexer": "ipython3",
   "version": "3.8.16"
  }
 },
 "nbformat": 4,
 "nbformat_minor": 5
}
