{
 "cells": [
  {
   "cell_type": "markdown",
   "id": "beaa9958-c445-4e1e-a246-b3335c02d66f",
   "metadata": {},
   "source": [
    "# Links\n",
    "\n",
    "This is a tool that helps users to write pipelines that depend on **abstractions** and not **concretions**.\n",
    "\n",
    "To illustrate this, let's first create a couple of lookup tables that store metadata and define rowproperties for generating specific types (**concretions**) of images (blank and noisy)"
   ]
  },
  {
   "cell_type": "code",
   "execution_count": 1,
   "id": "40b5f28b-c9d9-42ef-9baa-d119a4eca278",
   "metadata": {
    "tags": []
   },
   "outputs": [
    {
     "name": "stdout",
     "output_type": "stream",
     "text": [
      "Connecting ewang@at-database.ad.bcm.edu:3306\n"
     ]
    }
   ],
   "source": [
    "import numpy as np\n",
    "from matplotlib import pyplot as plt\n",
    "from djutils import Schema, rowproperty\n",
    "\n",
    "schema = Schema(\"djutils_tutorial_2\")\n",
    "\n",
    "@schema.lookup\n",
    "class BlankImage:\n",
    "    definition = \"\"\"\n",
    "    height  : int unsigned\n",
    "    width   : int unsigned\n",
    "    value   : tinyint unsigned\n",
    "    \"\"\"\n",
    "    \n",
    "    contents = [\n",
    "        [36, 64, 0], [36, 64, 128], [36, 64, 255]\n",
    "    ]\n",
    "    \n",
    "    @rowproperty\n",
    "    def image(self):\n",
    "        height, width, value = self.fetch1(\"height\", \"width\", \"value\")\n",
    "        return np.full([height, width], value, dtype=np.uint8)\n",
    "    \n",
    "    \n",
    "@schema.lookup\n",
    "class NoisyImage:\n",
    "    definition = \"\"\"\n",
    "    height  : int unsigned\n",
    "    width   : int unsigned\n",
    "    seed    : int unsigned\n",
    "    \"\"\"\n",
    "    \n",
    "    contents = [\n",
    "        [36, 64, 42], [36, 64, 101]\n",
    "    ]\n",
    "    \n",
    "    @rowproperty\n",
    "    def image(self):\n",
    "        height, width, seed = self.fetch1(\"height\", \"width\", \"seed\")\n",
    "        rng = np.random.default_rng(seed)\n",
    "        return rng.uniform(0, 255, size=[height, width]).round().astype(np.uint8)"
   ]
  },
  {
   "cell_type": "markdown",
   "id": "dcd5e8ff-b88b-4b96-a235-9020dcb6fe39",
   "metadata": {},
   "source": [
    "Let's take a look at the tables"
   ]
  },
  {
   "cell_type": "code",
   "execution_count": 2,
   "id": "2c06ddc3-a144-456d-af23-ec29380292ca",
   "metadata": {
    "tags": []
   },
   "outputs": [
    {
     "data": {
      "text/html": [
       "\n",
       "        \n",
       "        <style type=\"text/css\">\n",
       "            .Relation{\n",
       "                border-collapse:collapse;\n",
       "            }\n",
       "            .Relation th{\n",
       "                background: #A0A0A0; color: #ffffff; padding:4px; border:#f0e0e0 1px solid;\n",
       "                font-weight: normal; font-family: monospace; font-size: 100%;\n",
       "            }\n",
       "            .Relation td{\n",
       "                padding:4px; border:#f0e0e0 1px solid; font-size:100%;\n",
       "            }\n",
       "            .Relation tr:nth-child(odd){\n",
       "                background: #ffffff;\n",
       "            }\n",
       "            .Relation tr:nth-child(even){\n",
       "                background: #f3f1ff;\n",
       "            }\n",
       "            /* Tooltip container */\n",
       "            .djtooltip {\n",
       "            }\n",
       "            /* Tooltip text */\n",
       "            .djtooltip .djtooltiptext {\n",
       "                visibility: hidden;\n",
       "                width: 120px;\n",
       "                background-color: black;\n",
       "                color: #fff;\n",
       "                text-align: center;\n",
       "                padding: 5px 0;\n",
       "                border-radius: 6px;\n",
       "                /* Position the tooltip text - see examples below! */\n",
       "                position: absolute;\n",
       "                z-index: 1;\n",
       "            }\n",
       "            #primary {\n",
       "                font-weight: bold;\n",
       "                color: black;\n",
       "            }\n",
       "\n",
       "            #nonprimary {\n",
       "                font-weight: normal;\n",
       "                color: white;\n",
       "            }\n",
       "\n",
       "            /* Show the tooltip text when you mouse over the tooltip container */\n",
       "            .djtooltip:hover .djtooltiptext {\n",
       "                visibility: visible;\n",
       "            }\n",
       "        </style>\n",
       "        \n",
       "        <b></b>\n",
       "            <div style=\"max-height:1000px;max-width:1500px;overflow:auto;\">\n",
       "            <table border=\"1\" class=\"Relation\">\n",
       "                <thead> <tr style=\"text-align: right;\"> <th> <div class=\"djtooltip\">\n",
       "                                <p id=\"primary\">height</p>\n",
       "                                <span class=\"djtooltiptext\"></span>\n",
       "                            </div></th><th><div class=\"djtooltip\">\n",
       "                                <p id=\"primary\">width</p>\n",
       "                                <span class=\"djtooltiptext\"></span>\n",
       "                            </div></th><th><div class=\"djtooltip\">\n",
       "                                <p id=\"primary\">value</p>\n",
       "                                <span class=\"djtooltiptext\"></span>\n",
       "                            </div> </th> </tr> </thead>\n",
       "                <tbody> <tr> <td>36</td>\n",
       "<td>64</td>\n",
       "<td>0</td></tr><tr><td>36</td>\n",
       "<td>64</td>\n",
       "<td>128</td></tr><tr><td>36</td>\n",
       "<td>64</td>\n",
       "<td>255</td> </tr> </tbody>\n",
       "            </table>\n",
       "            \n",
       "            <p>Total: 3</p></div>\n",
       "            "
      ],
      "text/plain": [
       "*height    *width    *value   \n",
       "+--------+ +-------+ +-------+\n",
       "36         64        0        \n",
       "36         64        128      \n",
       "36         64        255      \n",
       " (Total: 3)"
      ]
     },
     "execution_count": 2,
     "metadata": {},
     "output_type": "execute_result"
    }
   ],
   "source": [
    "BlankImage()"
   ]
  },
  {
   "cell_type": "code",
   "execution_count": 3,
   "id": "10228b1f-23cf-4541-a597-fe96f0600295",
   "metadata": {
    "tags": []
   },
   "outputs": [
    {
     "data": {
      "text/html": [
       "\n",
       "        \n",
       "        <style type=\"text/css\">\n",
       "            .Relation{\n",
       "                border-collapse:collapse;\n",
       "            }\n",
       "            .Relation th{\n",
       "                background: #A0A0A0; color: #ffffff; padding:4px; border:#f0e0e0 1px solid;\n",
       "                font-weight: normal; font-family: monospace; font-size: 100%;\n",
       "            }\n",
       "            .Relation td{\n",
       "                padding:4px; border:#f0e0e0 1px solid; font-size:100%;\n",
       "            }\n",
       "            .Relation tr:nth-child(odd){\n",
       "                background: #ffffff;\n",
       "            }\n",
       "            .Relation tr:nth-child(even){\n",
       "                background: #f3f1ff;\n",
       "            }\n",
       "            /* Tooltip container */\n",
       "            .djtooltip {\n",
       "            }\n",
       "            /* Tooltip text */\n",
       "            .djtooltip .djtooltiptext {\n",
       "                visibility: hidden;\n",
       "                width: 120px;\n",
       "                background-color: black;\n",
       "                color: #fff;\n",
       "                text-align: center;\n",
       "                padding: 5px 0;\n",
       "                border-radius: 6px;\n",
       "                /* Position the tooltip text - see examples below! */\n",
       "                position: absolute;\n",
       "                z-index: 1;\n",
       "            }\n",
       "            #primary {\n",
       "                font-weight: bold;\n",
       "                color: black;\n",
       "            }\n",
       "\n",
       "            #nonprimary {\n",
       "                font-weight: normal;\n",
       "                color: white;\n",
       "            }\n",
       "\n",
       "            /* Show the tooltip text when you mouse over the tooltip container */\n",
       "            .djtooltip:hover .djtooltiptext {\n",
       "                visibility: visible;\n",
       "            }\n",
       "        </style>\n",
       "        \n",
       "        <b></b>\n",
       "            <div style=\"max-height:1000px;max-width:1500px;overflow:auto;\">\n",
       "            <table border=\"1\" class=\"Relation\">\n",
       "                <thead> <tr style=\"text-align: right;\"> <th> <div class=\"djtooltip\">\n",
       "                                <p id=\"primary\">height</p>\n",
       "                                <span class=\"djtooltiptext\"></span>\n",
       "                            </div></th><th><div class=\"djtooltip\">\n",
       "                                <p id=\"primary\">width</p>\n",
       "                                <span class=\"djtooltiptext\"></span>\n",
       "                            </div></th><th><div class=\"djtooltip\">\n",
       "                                <p id=\"primary\">seed</p>\n",
       "                                <span class=\"djtooltiptext\"></span>\n",
       "                            </div> </th> </tr> </thead>\n",
       "                <tbody> <tr> <td>36</td>\n",
       "<td>64</td>\n",
       "<td>42</td></tr><tr><td>36</td>\n",
       "<td>64</td>\n",
       "<td>101</td> </tr> </tbody>\n",
       "            </table>\n",
       "            \n",
       "            <p>Total: 2</p></div>\n",
       "            "
      ],
      "text/plain": [
       "*height    *width    *seed   \n",
       "+--------+ +-------+ +------+\n",
       "36         64        42      \n",
       "36         64        101     \n",
       " (Total: 2)"
      ]
     },
     "execution_count": 3,
     "metadata": {},
     "output_type": "execute_result"
    }
   ],
   "source": [
    "NoisyImage()"
   ]
  },
  {
   "cell_type": "markdown",
   "id": "8eb3778f-e45b-422f-9711-1ab48e43b00f",
   "metadata": {},
   "source": [
    "And let's visualize their `image` rowproperties"
   ]
  },
  {
   "cell_type": "code",
   "execution_count": 4,
   "id": "d2c7ba17-44e9-4e33-b296-23c41af6fcea",
   "metadata": {
    "tags": []
   },
   "outputs": [
    {
     "name": "stdout",
     "output_type": "stream",
     "text": [
      "--------Blank Images--------\n"
     ]
    },
    {
     "data": {
      "image/png": "[encoded data removed]",
      "text/plain": [
       "<Figure size 200x300 with 1 Axes>"
      ]
     },
     "metadata": {},
     "output_type": "display_data"
    },
    {
     "data": {
      "image/png": "[encoded data removed]",
      "text/plain": [
       "<Figure size 200x300 with 1 Axes>"
      ]
     },
     "metadata": {},
     "output_type": "display_data"
    },
    {
     "data": {
      "image/png": "[encoded data removed]",
      "text/plain": [
       "<Figure size 200x300 with 1 Axes>"
      ]
     },
     "metadata": {},
     "output_type": "display_data"
    }
   ],
   "source": [
    "print(\"--------Blank Images--------\")\n",
    "for key in BlankImage:\n",
    "    plt.figure(figsize=(2, 3))\n",
    "    plt.imshow((BlankImage & key).image, vmin=0, vmax=255, cmap='gray')\n",
    "    plt.show()"
   ]
  },
  {
   "cell_type": "code",
   "execution_count": 5,
   "id": "dd66fda4-0fc8-4ff0-8ebe-e0caad3f750f",
   "metadata": {
    "tags": []
   },
   "outputs": [
    {
     "name": "stdout",
     "output_type": "stream",
     "text": [
      "--------Noisy Images--------\n"
     ]
    },
    {
     "data": {
      "image/png": "[encoded data removed]",
      "text/plain": [
       "<Figure size 200x300 with 1 Axes>"
      ]
     },
     "metadata": {},
     "output_type": "display_data"
    },
    {
     "data": {
      "image/png": "[encoded data removed]",
      "text/plain": [
       "<Figure size 200x300 with 1 Axes>"
      ]
     },
     "metadata": {},
     "output_type": "display_data"
    }
   ],
   "source": [
    "print(\"--------Noisy Images--------\")\n",
    "for key in NoisyImage:\n",
    "    plt.figure(figsize=(2, 3))\n",
    "    plt.imshow((NoisyImage & key).image, vmin=0, vmax=255, cmap='gray')\n",
    "    plt.show()"
   ]
  },
  {
   "cell_type": "markdown",
   "id": "723479f7-c159-4eb9-9152-7e489fe7af99",
   "metadata": {},
   "source": [
    "How do we create a downstream table that depends on the **abstraction** of an image and not on the **concretion** of individual image types?\n",
    "\n",
    "## Solution: Link tables via the `schema.link` decorator"
   ]
  },
  {
   "cell_type": "code",
   "execution_count": 6,
   "id": "a6a15da7-41c3-4335-88e2-1b09f960f23e",
   "metadata": {},
   "outputs": [],
   "source": [
    "@schema.link\n",
    "class Image:\n",
    "    links = [BlankImage, NoisyImage]\n",
    "    name = \"image\""
   ]
  },
  {
   "cell_type": "markdown",
   "id": "77b4ef02-35a3-4f68-96cd-fc98fe1e09c2",
   "metadata": {},
   "source": [
    "The `schema.link` decorator creates an `Image` lookup table with the primary key `{name}_id` and secondary keys `{name}_type` and `{name}_ts`"
   ]
  },
  {
   "cell_type": "code",
   "execution_count": 7,
   "id": "b2e8c072-3e09-494c-a3f9-3925fec51d88",
   "metadata": {
    "tags": []
   },
   "outputs": [
    {
     "data": {
      "text/html": [
       "\n",
       "        \n",
       "        <style type=\"text/css\">\n",
       "            .Relation{\n",
       "                border-collapse:collapse;\n",
       "            }\n",
       "            .Relation th{\n",
       "                background: #A0A0A0; color: #ffffff; padding:4px; border:#f0e0e0 1px solid;\n",
       "                font-weight: normal; font-family: monospace; font-size: 100%;\n",
       "            }\n",
       "            .Relation td{\n",
       "                padding:4px; border:#f0e0e0 1px solid; font-size:100%;\n",
       "            }\n",
       "            .Relation tr:nth-child(odd){\n",
       "                background: #ffffff;\n",
       "            }\n",
       "            .Relation tr:nth-child(even){\n",
       "                background: #f3f1ff;\n",
       "            }\n",
       "            /* Tooltip container */\n",
       "            .djtooltip {\n",
       "            }\n",
       "            /* Tooltip text */\n",
       "            .djtooltip .djtooltiptext {\n",
       "                visibility: hidden;\n",
       "                width: 120px;\n",
       "                background-color: black;\n",
       "                color: #fff;\n",
       "                text-align: center;\n",
       "                padding: 5px 0;\n",
       "                border-radius: 6px;\n",
       "                /* Position the tooltip text - see examples below! */\n",
       "                position: absolute;\n",
       "                z-index: 1;\n",
       "            }\n",
       "            #primary {\n",
       "                font-weight: bold;\n",
       "                color: black;\n",
       "            }\n",
       "\n",
       "            #nonprimary {\n",
       "                font-weight: normal;\n",
       "                color: white;\n",
       "            }\n",
       "\n",
       "            /* Show the tooltip text when you mouse over the tooltip container */\n",
       "            .djtooltip:hover .djtooltiptext {\n",
       "                visibility: visible;\n",
       "            }\n",
       "        </style>\n",
       "        \n",
       "        <b></b>\n",
       "            <div style=\"max-height:1000px;max-width:1500px;overflow:auto;\">\n",
       "            <table border=\"1\" class=\"Relation\">\n",
       "                <thead> <tr style=\"text-align: right;\"> <th> <div class=\"djtooltip\">\n",
       "                                <p id=\"primary\">image_id</p>\n",
       "                                <span class=\"djtooltiptext\">image</span>\n",
       "                            </div></th><th><div class=\"djtooltip\">\n",
       "                                <p id=\"nonprimary\">image_type</p>\n",
       "                                <span class=\"djtooltiptext\">image type</span>\n",
       "                            </div></th><th><div class=\"djtooltip\">\n",
       "                                <p id=\"nonprimary\">image_ts</p>\n",
       "                                <span class=\"djtooltiptext\">automatic timestamp</span>\n",
       "                            </div> </th> </tr> </thead>\n",
       "                <tbody> <tr>  </tr> </tbody>\n",
       "            </table>\n",
       "            \n",
       "            <p>Total: 0</p></div>\n",
       "            "
      ],
      "text/plain": [
       "*image_id    image_type     image_ts    \n",
       "+----------+ +------------+ +----------+\n",
       "\n",
       " (Total: 0)"
      ]
     },
     "execution_count": 7,
     "metadata": {},
     "output_type": "execute_result"
    }
   ],
   "source": [
    "Image()"
   ]
  },
  {
   "cell_type": "markdown",
   "id": "15f3eeef-97c1-4f60-ac41-1e7f7b6f9e6b",
   "metadata": {},
   "source": [
    "In addition, `Image.BlankImage` and `Image.NoisyImage` part tables are created, corresponding to the tables in the list of `links`"
   ]
  },
  {
   "cell_type": "code",
   "execution_count": 8,
   "id": "cb822de4-fccc-42a4-9344-836e060d3909",
   "metadata": {
    "tags": []
   },
   "outputs": [
    {
     "data": {
      "text/html": [
       "\n",
       "        \n",
       "        <style type=\"text/css\">\n",
       "            .Relation{\n",
       "                border-collapse:collapse;\n",
       "            }\n",
       "            .Relation th{\n",
       "                background: #A0A0A0; color: #ffffff; padding:4px; border:#f0e0e0 1px solid;\n",
       "                font-weight: normal; font-family: monospace; font-size: 100%;\n",
       "            }\n",
       "            .Relation td{\n",
       "                padding:4px; border:#f0e0e0 1px solid; font-size:100%;\n",
       "            }\n",
       "            .Relation tr:nth-child(odd){\n",
       "                background: #ffffff;\n",
       "            }\n",
       "            .Relation tr:nth-child(even){\n",
       "                background: #f3f1ff;\n",
       "            }\n",
       "            /* Tooltip container */\n",
       "            .djtooltip {\n",
       "            }\n",
       "            /* Tooltip text */\n",
       "            .djtooltip .djtooltiptext {\n",
       "                visibility: hidden;\n",
       "                width: 120px;\n",
       "                background-color: black;\n",
       "                color: #fff;\n",
       "                text-align: center;\n",
       "                padding: 5px 0;\n",
       "                border-radius: 6px;\n",
       "                /* Position the tooltip text - see examples below! */\n",
       "                position: absolute;\n",
       "                z-index: 1;\n",
       "            }\n",
       "            #primary {\n",
       "                font-weight: bold;\n",
       "                color: black;\n",
       "            }\n",
       "\n",
       "            #nonprimary {\n",
       "                font-weight: normal;\n",
       "                color: white;\n",
       "            }\n",
       "\n",
       "            /* Show the tooltip text when you mouse over the tooltip container */\n",
       "            .djtooltip:hover .djtooltiptext {\n",
       "                visibility: visible;\n",
       "            }\n",
       "        </style>\n",
       "        \n",
       "        <b></b>\n",
       "            <div style=\"max-height:1000px;max-width:1500px;overflow:auto;\">\n",
       "            <table border=\"1\" class=\"Relation\">\n",
       "                <thead> <tr style=\"text-align: right;\"> <th> <div class=\"djtooltip\">\n",
       "                                <p id=\"primary\">image_id</p>\n",
       "                                <span class=\"djtooltiptext\">image</span>\n",
       "                            </div></th><th><div class=\"djtooltip\">\n",
       "                                <p id=\"nonprimary\">height</p>\n",
       "                                <span class=\"djtooltiptext\"></span>\n",
       "                            </div></th><th><div class=\"djtooltip\">\n",
       "                                <p id=\"nonprimary\">width</p>\n",
       "                                <span class=\"djtooltiptext\"></span>\n",
       "                            </div></th><th><div class=\"djtooltip\">\n",
       "                                <p id=\"nonprimary\">value</p>\n",
       "                                <span class=\"djtooltiptext\"></span>\n",
       "                            </div> </th> </tr> </thead>\n",
       "                <tbody> <tr>  </tr> </tbody>\n",
       "            </table>\n",
       "            \n",
       "            <p>Total: 0</p></div>\n",
       "            "
      ],
      "text/plain": [
       "*image_id    height     width     value    \n",
       "+----------+ +--------+ +-------+ +-------+\n",
       "\n",
       " (Total: 0)"
      ]
     },
     "execution_count": 8,
     "metadata": {},
     "output_type": "execute_result"
    }
   ],
   "source": [
    "Image.BlankImage()"
   ]
  },
  {
   "cell_type": "code",
   "execution_count": 9,
   "id": "67516f08-d8e4-4c9b-8ec6-f382ad36f405",
   "metadata": {
    "tags": []
   },
   "outputs": [
    {
     "data": {
      "text/html": [
       "\n",
       "        \n",
       "        <style type=\"text/css\">\n",
       "            .Relation{\n",
       "                border-collapse:collapse;\n",
       "            }\n",
       "            .Relation th{\n",
       "                background: #A0A0A0; color: #ffffff; padding:4px; border:#f0e0e0 1px solid;\n",
       "                font-weight: normal; font-family: monospace; font-size: 100%;\n",
       "            }\n",
       "            .Relation td{\n",
       "                padding:4px; border:#f0e0e0 1px solid; font-size:100%;\n",
       "            }\n",
       "            .Relation tr:nth-child(odd){\n",
       "                background: #ffffff;\n",
       "            }\n",
       "            .Relation tr:nth-child(even){\n",
       "                background: #f3f1ff;\n",
       "            }\n",
       "            /* Tooltip container */\n",
       "            .djtooltip {\n",
       "            }\n",
       "            /* Tooltip text */\n",
       "            .djtooltip .djtooltiptext {\n",
       "                visibility: hidden;\n",
       "                width: 120px;\n",
       "                background-color: black;\n",
       "                color: #fff;\n",
       "                text-align: center;\n",
       "                padding: 5px 0;\n",
       "                border-radius: 6px;\n",
       "                /* Position the tooltip text - see examples below! */\n",
       "                position: absolute;\n",
       "                z-index: 1;\n",
       "            }\n",
       "            #primary {\n",
       "                font-weight: bold;\n",
       "                color: black;\n",
       "            }\n",
       "\n",
       "            #nonprimary {\n",
       "                font-weight: normal;\n",
       "                color: white;\n",
       "            }\n",
       "\n",
       "            /* Show the tooltip text when you mouse over the tooltip container */\n",
       "            .djtooltip:hover .djtooltiptext {\n",
       "                visibility: visible;\n",
       "            }\n",
       "        </style>\n",
       "        \n",
       "        <b></b>\n",
       "            <div style=\"max-height:1000px;max-width:1500px;overflow:auto;\">\n",
       "            <table border=\"1\" class=\"Relation\">\n",
       "                <thead> <tr style=\"text-align: right;\"> <th> <div class=\"djtooltip\">\n",
       "                                <p id=\"primary\">image_id</p>\n",
       "                                <span class=\"djtooltiptext\">image</span>\n",
       "                            </div></th><th><div class=\"djtooltip\">\n",
       "                                <p id=\"nonprimary\">height</p>\n",
       "                                <span class=\"djtooltiptext\"></span>\n",
       "                            </div></th><th><div class=\"djtooltip\">\n",
       "                                <p id=\"nonprimary\">width</p>\n",
       "                                <span class=\"djtooltiptext\"></span>\n",
       "                            </div></th><th><div class=\"djtooltip\">\n",
       "                                <p id=\"nonprimary\">seed</p>\n",
       "                                <span class=\"djtooltiptext\"></span>\n",
       "                            </div> </th> </tr> </thead>\n",
       "                <tbody> <tr>  </tr> </tbody>\n",
       "            </table>\n",
       "            \n",
       "            <p>Total: 0</p></div>\n",
       "            "
      ],
      "text/plain": [
       "*image_id    height     width     seed    \n",
       "+----------+ +--------+ +-------+ +------+\n",
       "\n",
       " (Total: 0)"
      ]
     },
     "execution_count": 9,
     "metadata": {},
     "output_type": "execute_result"
    }
   ],
   "source": [
    "Image.NoisyImage()"
   ]
  },
  {
   "cell_type": "markdown",
   "id": "82011f0e-8f43-4229-818f-32ea64e2b65c",
   "metadata": {},
   "source": [
    "To get data from the upstream tables into the link lookup and part tables, use the `fill` method"
   ]
  },
  {
   "cell_type": "code",
   "execution_count": 10,
   "id": "b653ee8a-34bb-4bc9-b9f6-e9b4fda7c273",
   "metadata": {
    "tags": []
   },
   "outputs": [
    {
     "name": "stdout",
     "output_type": "stream",
     "text": [
      "BlankImage -- Inserting 3 keys\n",
      "NoisyImage -- Inserting 2 keys\n"
     ]
    }
   ],
   "source": [
    "Image.fill()"
   ]
  },
  {
   "cell_type": "markdown",
   "id": "58665906-c98f-427a-b474-a9f430e22fe5",
   "metadata": {},
   "source": [
    "This inserts 5 rows into `Image` ..."
   ]
  },
  {
   "cell_type": "code",
   "execution_count": 11,
   "id": "ecd32a94-d7eb-41cc-8a1b-7e01aa241618",
   "metadata": {
    "tags": []
   },
   "outputs": [
    {
     "data": {
      "text/html": [
       "\n",
       "        \n",
       "        <style type=\"text/css\">\n",
       "            .Relation{\n",
       "                border-collapse:collapse;\n",
       "            }\n",
       "            .Relation th{\n",
       "                background: #A0A0A0; color: #ffffff; padding:4px; border:#f0e0e0 1px solid;\n",
       "                font-weight: normal; font-family: monospace; font-size: 100%;\n",
       "            }\n",
       "            .Relation td{\n",
       "                padding:4px; border:#f0e0e0 1px solid; font-size:100%;\n",
       "            }\n",
       "            .Relation tr:nth-child(odd){\n",
       "                background: #ffffff;\n",
       "            }\n",
       "            .Relation tr:nth-child(even){\n",
       "                background: #f3f1ff;\n",
       "            }\n",
       "            /* Tooltip container */\n",
       "            .djtooltip {\n",
       "            }\n",
       "            /* Tooltip text */\n",
       "            .djtooltip .djtooltiptext {\n",
       "                visibility: hidden;\n",
       "                width: 120px;\n",
       "                background-color: black;\n",
       "                color: #fff;\n",
       "                text-align: center;\n",
       "                padding: 5px 0;\n",
       "                border-radius: 6px;\n",
       "                /* Position the tooltip text - see examples below! */\n",
       "                position: absolute;\n",
       "                z-index: 1;\n",
       "            }\n",
       "            #primary {\n",
       "                font-weight: bold;\n",
       "                color: black;\n",
       "            }\n",
       "\n",
       "            #nonprimary {\n",
       "                font-weight: normal;\n",
       "                color: white;\n",
       "            }\n",
       "\n",
       "            /* Show the tooltip text when you mouse over the tooltip container */\n",
       "            .djtooltip:hover .djtooltiptext {\n",
       "                visibility: visible;\n",
       "            }\n",
       "        </style>\n",
       "        \n",
       "        <b></b>\n",
       "            <div style=\"max-height:1000px;max-width:1500px;overflow:auto;\">\n",
       "            <table border=\"1\" class=\"Relation\">\n",
       "                <thead> <tr style=\"text-align: right;\"> <th> <div class=\"djtooltip\">\n",
       "                                <p id=\"primary\">image_id</p>\n",
       "                                <span class=\"djtooltiptext\">image</span>\n",
       "                            </div></th><th><div class=\"djtooltip\">\n",
       "                                <p id=\"nonprimary\">image_type</p>\n",
       "                                <span class=\"djtooltiptext\">image type</span>\n",
       "                            </div></th><th><div class=\"djtooltip\">\n",
       "                                <p id=\"nonprimary\">image_ts</p>\n",
       "                                <span class=\"djtooltiptext\">automatic timestamp</span>\n",
       "                            </div> </th> </tr> </thead>\n",
       "                <tbody> <tr> <td>5d842811721aa003f061a323f627c87a</td>\n",
       "<td>NoisyImage</td>\n",
       "<td>2023-07-06 22:23:01</td></tr><tr><td>989a9bbf8e533629cda8f1584259365a</td>\n",
       "<td>NoisyImage</td>\n",
       "<td>2023-07-06 22:23:01</td></tr><tr><td>ae8577c19dc5040d5c88da9d8639d8de</td>\n",
       "<td>BlankImage</td>\n",
       "<td>2023-07-06 22:23:01</td></tr><tr><td>ceb3e03469214e146500375d3b0062c8</td>\n",
       "<td>BlankImage</td>\n",
       "<td>2023-07-06 22:23:01</td></tr><tr><td>f4f66cfd04ff63ecceb64820559647f1</td>\n",
       "<td>BlankImage</td>\n",
       "<td>2023-07-06 22:23:01</td> </tr> </tbody>\n",
       "            </table>\n",
       "            \n",
       "            <p>Total: 5</p></div>\n",
       "            "
      ],
      "text/plain": [
       "*image_id      image_type     image_ts      \n",
       "+------------+ +------------+ +------------+\n",
       "5d842811721aa0 NoisyImage     2023-07-06 22:\n",
       "989a9bbf8e5336 NoisyImage     2023-07-06 22:\n",
       "ae8577c19dc504 BlankImage     2023-07-06 22:\n",
       "ceb3e03469214e BlankImage     2023-07-06 22:\n",
       "f4f66cfd04ff63 BlankImage     2023-07-06 22:\n",
       " (Total: 5)"
      ]
     },
     "execution_count": 11,
     "metadata": {},
     "output_type": "execute_result"
    }
   ],
   "source": [
    "Image()"
   ]
  },
  {
   "cell_type": "markdown",
   "id": "7720092c-7307-480c-af0f-108d01c201f0",
   "metadata": {},
   "source": [
    "... 3 of them belonging belonging to `BlankImage`"
   ]
  },
  {
   "cell_type": "code",
   "execution_count": 12,
   "id": "ab6c03d5-2ae0-482a-bc21-b72acca670ca",
   "metadata": {
    "tags": []
   },
   "outputs": [
    {
     "data": {
      "text/html": [
       "\n",
       "        \n",
       "        <style type=\"text/css\">\n",
       "            .Relation{\n",
       "                border-collapse:collapse;\n",
       "            }\n",
       "            .Relation th{\n",
       "                background: #A0A0A0; color: #ffffff; padding:4px; border:#f0e0e0 1px solid;\n",
       "                font-weight: normal; font-family: monospace; font-size: 100%;\n",
       "            }\n",
       "            .Relation td{\n",
       "                padding:4px; border:#f0e0e0 1px solid; font-size:100%;\n",
       "            }\n",
       "            .Relation tr:nth-child(odd){\n",
       "                background: #ffffff;\n",
       "            }\n",
       "            .Relation tr:nth-child(even){\n",
       "                background: #f3f1ff;\n",
       "            }\n",
       "            /* Tooltip container */\n",
       "            .djtooltip {\n",
       "            }\n",
       "            /* Tooltip text */\n",
       "            .djtooltip .djtooltiptext {\n",
       "                visibility: hidden;\n",
       "                width: 120px;\n",
       "                background-color: black;\n",
       "                color: #fff;\n",
       "                text-align: center;\n",
       "                padding: 5px 0;\n",
       "                border-radius: 6px;\n",
       "                /* Position the tooltip text - see examples below! */\n",
       "                position: absolute;\n",
       "                z-index: 1;\n",
       "            }\n",
       "            #primary {\n",
       "                font-weight: bold;\n",
       "                color: black;\n",
       "            }\n",
       "\n",
       "            #nonprimary {\n",
       "                font-weight: normal;\n",
       "                color: white;\n",
       "            }\n",
       "\n",
       "            /* Show the tooltip text when you mouse over the tooltip container */\n",
       "            .djtooltip:hover .djtooltiptext {\n",
       "                visibility: visible;\n",
       "            }\n",
       "        </style>\n",
       "        \n",
       "        <b></b>\n",
       "            <div style=\"max-height:1000px;max-width:1500px;overflow:auto;\">\n",
       "            <table border=\"1\" class=\"Relation\">\n",
       "                <thead> <tr style=\"text-align: right;\"> <th> <div class=\"djtooltip\">\n",
       "                                <p id=\"primary\">image_id</p>\n",
       "                                <span class=\"djtooltiptext\">image</span>\n",
       "                            </div></th><th><div class=\"djtooltip\">\n",
       "                                <p id=\"nonprimary\">height</p>\n",
       "                                <span class=\"djtooltiptext\"></span>\n",
       "                            </div></th><th><div class=\"djtooltip\">\n",
       "                                <p id=\"nonprimary\">width</p>\n",
       "                                <span class=\"djtooltiptext\"></span>\n",
       "                            </div></th><th><div class=\"djtooltip\">\n",
       "                                <p id=\"nonprimary\">value</p>\n",
       "                                <span class=\"djtooltiptext\"></span>\n",
       "                            </div> </th> </tr> </thead>\n",
       "                <tbody> <tr> <td>ceb3e03469214e146500375d3b0062c8</td>\n",
       "<td>36</td>\n",
       "<td>64</td>\n",
       "<td>0</td></tr><tr><td>f4f66cfd04ff63ecceb64820559647f1</td>\n",
       "<td>36</td>\n",
       "<td>64</td>\n",
       "<td>128</td></tr><tr><td>ae8577c19dc5040d5c88da9d8639d8de</td>\n",
       "<td>36</td>\n",
       "<td>64</td>\n",
       "<td>255</td> </tr> </tbody>\n",
       "            </table>\n",
       "            \n",
       "            <p>Total: 3</p></div>\n",
       "            "
      ],
      "text/plain": [
       "*image_id      height     width     value    \n",
       "+------------+ +--------+ +-------+ +-------+\n",
       "ceb3e03469214e 36         64        0        \n",
       "f4f66cfd04ff63 36         64        128      \n",
       "ae8577c19dc504 36         64        255      \n",
       " (Total: 3)"
      ]
     },
     "execution_count": 12,
     "metadata": {},
     "output_type": "execute_result"
    }
   ],
   "source": [
    "Image.BlankImage()"
   ]
  },
  {
   "cell_type": "markdown",
   "id": "f46e0564-bc2f-4d5f-b04f-326448b1d579",
   "metadata": {},
   "source": [
    "... and 2 of them belonging belonging to `NoisyImage`"
   ]
  },
  {
   "cell_type": "code",
   "execution_count": 13,
   "id": "5fb28397-67a2-467d-a1e3-676345b45730",
   "metadata": {
    "tags": []
   },
   "outputs": [
    {
     "data": {
      "text/html": [
       "\n",
       "        \n",
       "        <style type=\"text/css\">\n",
       "            .Relation{\n",
       "                border-collapse:collapse;\n",
       "            }\n",
       "            .Relation th{\n",
       "                background: #A0A0A0; color: #ffffff; padding:4px; border:#f0e0e0 1px solid;\n",
       "                font-weight: normal; font-family: monospace; font-size: 100%;\n",
       "            }\n",
       "            .Relation td{\n",
       "                padding:4px; border:#f0e0e0 1px solid; font-size:100%;\n",
       "            }\n",
       "            .Relation tr:nth-child(odd){\n",
       "                background: #ffffff;\n",
       "            }\n",
       "            .Relation tr:nth-child(even){\n",
       "                background: #f3f1ff;\n",
       "            }\n",
       "            /* Tooltip container */\n",
       "            .djtooltip {\n",
       "            }\n",
       "            /* Tooltip text */\n",
       "            .djtooltip .djtooltiptext {\n",
       "                visibility: hidden;\n",
       "                width: 120px;\n",
       "                background-color: black;\n",
       "                color: #fff;\n",
       "                text-align: center;\n",
       "                padding: 5px 0;\n",
       "                border-radius: 6px;\n",
       "                /* Position the tooltip text - see examples below! */\n",
       "                position: absolute;\n",
       "                z-index: 1;\n",
       "            }\n",
       "            #primary {\n",
       "                font-weight: bold;\n",
       "                color: black;\n",
       "            }\n",
       "\n",
       "            #nonprimary {\n",
       "                font-weight: normal;\n",
       "                color: white;\n",
       "            }\n",
       "\n",
       "            /* Show the tooltip text when you mouse over the tooltip container */\n",
       "            .djtooltip:hover .djtooltiptext {\n",
       "                visibility: visible;\n",
       "            }\n",
       "        </style>\n",
       "        \n",
       "        <b></b>\n",
       "            <div style=\"max-height:1000px;max-width:1500px;overflow:auto;\">\n",
       "            <table border=\"1\" class=\"Relation\">\n",
       "                <thead> <tr style=\"text-align: right;\"> <th> <div class=\"djtooltip\">\n",
       "                                <p id=\"primary\">image_id</p>\n",
       "                                <span class=\"djtooltiptext\">image</span>\n",
       "                            </div></th><th><div class=\"djtooltip\">\n",
       "                                <p id=\"nonprimary\">height</p>\n",
       "                                <span class=\"djtooltiptext\"></span>\n",
       "                            </div></th><th><div class=\"djtooltip\">\n",
       "                                <p id=\"nonprimary\">width</p>\n",
       "                                <span class=\"djtooltiptext\"></span>\n",
       "                            </div></th><th><div class=\"djtooltip\">\n",
       "                                <p id=\"nonprimary\">seed</p>\n",
       "                                <span class=\"djtooltiptext\"></span>\n",
       "                            </div> </th> </tr> </thead>\n",
       "                <tbody> <tr> <td>989a9bbf8e533629cda8f1584259365a</td>\n",
       "<td>36</td>\n",
       "<td>64</td>\n",
       "<td>42</td></tr><tr><td>5d842811721aa003f061a323f627c87a</td>\n",
       "<td>36</td>\n",
       "<td>64</td>\n",
       "<td>101</td> </tr> </tbody>\n",
       "            </table>\n",
       "            \n",
       "            <p>Total: 2</p></div>\n",
       "            "
      ],
      "text/plain": [
       "*image_id      height     width     seed    \n",
       "+------------+ +--------+ +-------+ +------+\n",
       "989a9bbf8e5336 36         64        42      \n",
       "5d842811721aa0 36         64        101     \n",
       " (Total: 2)"
      ]
     },
     "execution_count": 13,
     "metadata": {},
     "output_type": "execute_result"
    }
   ],
   "source": [
    "Image.NoisyImage()"
   ]
  },
  {
   "cell_type": "markdown",
   "id": "b821db47-be77-427d-b45e-f48bf043eb16",
   "metadata": {},
   "source": [
    "For any `row` of `Image`, `link` allows the user to access the upstream table"
   ]
  },
  {
   "cell_type": "code",
   "execution_count": 14,
   "id": "60587589-b261-4aa1-bd2a-e7ba2a6205f4",
   "metadata": {},
   "outputs": [
    {
     "data": {
      "text/html": [
       "\n",
       "        \n",
       "        <style type=\"text/css\">\n",
       "            .Relation{\n",
       "                border-collapse:collapse;\n",
       "            }\n",
       "            .Relation th{\n",
       "                background: #A0A0A0; color: #ffffff; padding:4px; border:#f0e0e0 1px solid;\n",
       "                font-weight: normal; font-family: monospace; font-size: 100%;\n",
       "            }\n",
       "            .Relation td{\n",
       "                padding:4px; border:#f0e0e0 1px solid; font-size:100%;\n",
       "            }\n",
       "            .Relation tr:nth-child(odd){\n",
       "                background: #ffffff;\n",
       "            }\n",
       "            .Relation tr:nth-child(even){\n",
       "                background: #f3f1ff;\n",
       "            }\n",
       "            /* Tooltip container */\n",
       "            .djtooltip {\n",
       "            }\n",
       "            /* Tooltip text */\n",
       "            .djtooltip .djtooltiptext {\n",
       "                visibility: hidden;\n",
       "                width: 120px;\n",
       "                background-color: black;\n",
       "                color: #fff;\n",
       "                text-align: center;\n",
       "                padding: 5px 0;\n",
       "                border-radius: 6px;\n",
       "                /* Position the tooltip text - see examples below! */\n",
       "                position: absolute;\n",
       "                z-index: 1;\n",
       "            }\n",
       "            #primary {\n",
       "                font-weight: bold;\n",
       "                color: black;\n",
       "            }\n",
       "\n",
       "            #nonprimary {\n",
       "                font-weight: normal;\n",
       "                color: white;\n",
       "            }\n",
       "\n",
       "            /* Show the tooltip text when you mouse over the tooltip container */\n",
       "            .djtooltip:hover .djtooltiptext {\n",
       "                visibility: visible;\n",
       "            }\n",
       "        </style>\n",
       "        \n",
       "        <b></b>\n",
       "            <div style=\"max-height:1000px;max-width:1500px;overflow:auto;\">\n",
       "            <table border=\"1\" class=\"Relation\">\n",
       "                <thead> <tr style=\"text-align: right;\"> <th> <div class=\"djtooltip\">\n",
       "                                <p id=\"primary\">height</p>\n",
       "                                <span class=\"djtooltiptext\"></span>\n",
       "                            </div></th><th><div class=\"djtooltip\">\n",
       "                                <p id=\"primary\">width</p>\n",
       "                                <span class=\"djtooltiptext\"></span>\n",
       "                            </div></th><th><div class=\"djtooltip\">\n",
       "                                <p id=\"primary\">seed</p>\n",
       "                                <span class=\"djtooltiptext\"></span>\n",
       "                            </div> </th> </tr> </thead>\n",
       "                <tbody> <tr> <td>36</td>\n",
       "<td>64</td>\n",
       "<td>101</td> </tr> </tbody>\n",
       "            </table>\n",
       "            \n",
       "            <p>Total: 1</p></div>\n",
       "            "
      ],
      "text/plain": [
       "*height    *width    *seed   \n",
       "+--------+ +-------+ +------+\n",
       "36         64        101     \n",
       " (Total: 1)"
      ]
     },
     "execution_count": 14,
     "metadata": {},
     "output_type": "execute_result"
    }
   ],
   "source": [
    "(Image & 'image_id like \"5d842%\"').link"
   ]
  },
  {
   "cell_type": "markdown",
   "id": "92fc8b30-e911-4a76-8a76-c806c5b386bc",
   "metadata": {},
   "source": [
    "Using this link design, we can create pipelines that **depend on abstractions** and not concretions"
   ]
  },
  {
   "cell_type": "code",
   "execution_count": 15,
   "id": "a7aac999-e9b9-43dc-972b-7f5b3e96f0de",
   "metadata": {},
   "outputs": [],
   "source": [
    "@schema.computed\n",
    "class ImageStats:\n",
    "    definition = \"\"\"\n",
    "    -> Image\n",
    "    ---\n",
    "    mean  : float\n",
    "    std   : float\n",
    "    \"\"\"\n",
    "    \n",
    "    def make(self, key):\n",
    "        image = (Image & key).link.image\n",
    "        key[\"mean\"] = image.mean()\n",
    "        key[\"std\"] = image.std()\n",
    "        self.insert1(key)"
   ]
  },
  {
   "cell_type": "code",
   "execution_count": 16,
   "id": "1bcc592f-3112-49a5-9cb6-0b9cff01d19d",
   "metadata": {
    "tags": []
   },
   "outputs": [
    {
     "name": "stderr",
     "output_type": "stream",
     "text": [
      "100% 5/5 [00:00<00:00, 37.81it/s]\n"
     ]
    }
   ],
   "source": [
    "ImageStats.populate(display_progress=True)"
   ]
  },
  {
   "cell_type": "code",
   "execution_count": 17,
   "id": "e13bb0ea-315b-4c9b-823e-a14876d9bd30",
   "metadata": {
    "tags": []
   },
   "outputs": [
    {
     "data": {
      "text/html": [
       "\n",
       "        \n",
       "        <style type=\"text/css\">\n",
       "            .Relation{\n",
       "                border-collapse:collapse;\n",
       "            }\n",
       "            .Relation th{\n",
       "                background: #A0A0A0; color: #ffffff; padding:4px; border:#f0e0e0 1px solid;\n",
       "                font-weight: normal; font-family: monospace; font-size: 100%;\n",
       "            }\n",
       "            .Relation td{\n",
       "                padding:4px; border:#f0e0e0 1px solid; font-size:100%;\n",
       "            }\n",
       "            .Relation tr:nth-child(odd){\n",
       "                background: #ffffff;\n",
       "            }\n",
       "            .Relation tr:nth-child(even){\n",
       "                background: #f3f1ff;\n",
       "            }\n",
       "            /* Tooltip container */\n",
       "            .djtooltip {\n",
       "            }\n",
       "            /* Tooltip text */\n",
       "            .djtooltip .djtooltiptext {\n",
       "                visibility: hidden;\n",
       "                width: 120px;\n",
       "                background-color: black;\n",
       "                color: #fff;\n",
       "                text-align: center;\n",
       "                padding: 5px 0;\n",
       "                border-radius: 6px;\n",
       "                /* Position the tooltip text - see examples below! */\n",
       "                position: absolute;\n",
       "                z-index: 1;\n",
       "            }\n",
       "            #primary {\n",
       "                font-weight: bold;\n",
       "                color: black;\n",
       "            }\n",
       "\n",
       "            #nonprimary {\n",
       "                font-weight: normal;\n",
       "                color: white;\n",
       "            }\n",
       "\n",
       "            /* Show the tooltip text when you mouse over the tooltip container */\n",
       "            .djtooltip:hover .djtooltiptext {\n",
       "                visibility: visible;\n",
       "            }\n",
       "        </style>\n",
       "        \n",
       "        <b></b>\n",
       "            <div style=\"max-height:1000px;max-width:1500px;overflow:auto;\">\n",
       "            <table border=\"1\" class=\"Relation\">\n",
       "                <thead> <tr style=\"text-align: right;\"> <th> <div class=\"djtooltip\">\n",
       "                                <p id=\"primary\">image_id</p>\n",
       "                                <span class=\"djtooltiptext\">image</span>\n",
       "                            </div></th><th><div class=\"djtooltip\">\n",
       "                                <p id=\"nonprimary\">mean</p>\n",
       "                                <span class=\"djtooltiptext\"></span>\n",
       "                            </div></th><th><div class=\"djtooltip\">\n",
       "                                <p id=\"nonprimary\">std</p>\n",
       "                                <span class=\"djtooltiptext\"></span>\n",
       "                            </div> </th> </tr> </thead>\n",
       "                <tbody> <tr> <td>5d842811721aa003f061a323f627c87a</td>\n",
       "<td>127.059</td>\n",
       "<td>73.6448</td></tr><tr><td>989a9bbf8e533629cda8f1584259365a</td>\n",
       "<td>127.541</td>\n",
       "<td>74.1578</td></tr><tr><td>ae8577c19dc5040d5c88da9d8639d8de</td>\n",
       "<td>255.0</td>\n",
       "<td>0.0</td></tr><tr><td>ceb3e03469214e146500375d3b0062c8</td>\n",
       "<td>0.0</td>\n",
       "<td>0.0</td></tr><tr><td>f4f66cfd04ff63ecceb64820559647f1</td>\n",
       "<td>128.0</td>\n",
       "<td>0.0</td> </tr> </tbody>\n",
       "            </table>\n",
       "            \n",
       "            <p>Total: 5</p></div>\n",
       "            "
      ],
      "text/plain": [
       "*image_id      mean        std        \n",
       "+------------+ +---------+ +---------+\n",
       "5d842811721aa0 127.059     73.6448    \n",
       "989a9bbf8e5336 127.541     74.1578    \n",
       "ae8577c19dc504 255.0       0.0        \n",
       "ceb3e03469214e 0.0         0.0        \n",
       "f4f66cfd04ff63 128.0       0.0        \n",
       " (Total: 5)"
      ]
     },
     "execution_count": 17,
     "metadata": {},
     "output_type": "execute_result"
    }
   ],
   "source": [
    "ImageStats()"
   ]
  },
  {
   "cell_type": "code",
   "execution_count": 18,
   "id": "d1e6f461-ceef-4429-ae7b-3a4c046d55a5",
   "metadata": {
    "tags": []
   },
   "outputs": [
    {
     "data": {
      "text/html": [
       "\n",
       "        \n",
       "        <style type=\"text/css\">\n",
       "            .Relation{\n",
       "                border-collapse:collapse;\n",
       "            }\n",
       "            .Relation th{\n",
       "                background: #A0A0A0; color: #ffffff; padding:4px; border:#f0e0e0 1px solid;\n",
       "                font-weight: normal; font-family: monospace; font-size: 100%;\n",
       "            }\n",
       "            .Relation td{\n",
       "                padding:4px; border:#f0e0e0 1px solid; font-size:100%;\n",
       "            }\n",
       "            .Relation tr:nth-child(odd){\n",
       "                background: #ffffff;\n",
       "            }\n",
       "            .Relation tr:nth-child(even){\n",
       "                background: #f3f1ff;\n",
       "            }\n",
       "            /* Tooltip container */\n",
       "            .djtooltip {\n",
       "            }\n",
       "            /* Tooltip text */\n",
       "            .djtooltip .djtooltiptext {\n",
       "                visibility: hidden;\n",
       "                width: 120px;\n",
       "                background-color: black;\n",
       "                color: #fff;\n",
       "                text-align: center;\n",
       "                padding: 5px 0;\n",
       "                border-radius: 6px;\n",
       "                /* Position the tooltip text - see examples below! */\n",
       "                position: absolute;\n",
       "                z-index: 1;\n",
       "            }\n",
       "            #primary {\n",
       "                font-weight: bold;\n",
       "                color: black;\n",
       "            }\n",
       "\n",
       "            #nonprimary {\n",
       "                font-weight: normal;\n",
       "                color: white;\n",
       "            }\n",
       "\n",
       "            /* Show the tooltip text when you mouse over the tooltip container */\n",
       "            .djtooltip:hover .djtooltiptext {\n",
       "                visibility: visible;\n",
       "            }\n",
       "        </style>\n",
       "        \n",
       "        \n",
       "            <div style=\"max-height:1000px;max-width:1500px;overflow:auto;\">\n",
       "            <table border=\"1\" class=\"Relation\">\n",
       "                <thead> <tr style=\"text-align: right;\"> <th> <div class=\"djtooltip\">\n",
       "                                <p id=\"primary\">image_id</p>\n",
       "                                <span class=\"djtooltiptext\">image</span>\n",
       "                            </div></th><th><div class=\"djtooltip\">\n",
       "                                <p id=\"nonprimary\">mean</p>\n",
       "                                <span class=\"djtooltiptext\"></span>\n",
       "                            </div></th><th><div class=\"djtooltip\">\n",
       "                                <p id=\"nonprimary\">std</p>\n",
       "                                <span class=\"djtooltiptext\"></span>\n",
       "                            </div></th><th><div class=\"djtooltip\">\n",
       "                                <p id=\"nonprimary\">image_type</p>\n",
       "                                <span class=\"djtooltiptext\">image type</span>\n",
       "                            </div></th><th><div class=\"djtooltip\">\n",
       "                                <p id=\"nonprimary\">image_ts</p>\n",
       "                                <span class=\"djtooltiptext\">automatic timestamp</span>\n",
       "                            </div> </th> </tr> </thead>\n",
       "                <tbody> <tr> <td>5d842811721aa003f061a323f627c87a</td>\n",
       "<td>127.059</td>\n",
       "<td>73.6448</td>\n",
       "<td>NoisyImage</td>\n",
       "<td>2023-07-06 22:23:01</td></tr><tr><td>989a9bbf8e533629cda8f1584259365a</td>\n",
       "<td>127.541</td>\n",
       "<td>74.1578</td>\n",
       "<td>NoisyImage</td>\n",
       "<td>2023-07-06 22:23:01</td></tr><tr><td>ae8577c19dc5040d5c88da9d8639d8de</td>\n",
       "<td>255.0</td>\n",
       "<td>0.0</td>\n",
       "<td>BlankImage</td>\n",
       "<td>2023-07-06 22:23:01</td></tr><tr><td>ceb3e03469214e146500375d3b0062c8</td>\n",
       "<td>0.0</td>\n",
       "<td>0.0</td>\n",
       "<td>BlankImage</td>\n",
       "<td>2023-07-06 22:23:01</td></tr><tr><td>f4f66cfd04ff63ecceb64820559647f1</td>\n",
       "<td>128.0</td>\n",
       "<td>0.0</td>\n",
       "<td>BlankImage</td>\n",
       "<td>2023-07-06 22:23:01</td> </tr> </tbody>\n",
       "            </table>\n",
       "            \n",
       "            <p>Total: 5</p></div>\n",
       "            "
      ],
      "text/plain": [
       "*image_id      mean        std         image_type     image_ts      \n",
       "+------------+ +---------+ +---------+ +------------+ +------------+\n",
       "5d842811721aa0 127.059     73.6448     NoisyImage     2023-07-06 22:\n",
       "989a9bbf8e5336 127.541     74.1578     NoisyImage     2023-07-06 22:\n",
       "ae8577c19dc504 255.0       0.0         BlankImage     2023-07-06 22:\n",
       "ceb3e03469214e 0.0         0.0         BlankImage     2023-07-06 22:\n",
       "f4f66cfd04ff63 128.0       0.0         BlankImage     2023-07-06 22:\n",
       " (Total: 5)"
      ]
     },
     "execution_count": 18,
     "metadata": {},
     "output_type": "execute_result"
    }
   ],
   "source": [
    "ImageStats * Image"
   ]
  }
 ],
 "metadata": {
  "kernelspec": {
   "display_name": "Python 3 (ipykernel)",
   "language": "python",
   "name": "python3"
  },
  "language_info": {
   "codemirror_mode": {
    "name": "ipython",
    "version": 3
   },
   "file_extension": ".py",
   "mimetype": "text/x-python",
   "name": "python",
   "nbconvert_exporter": "python",
   "pygments_lexer": "ipython3",
   "version": "3.8.16"
  }
 },
 "nbformat": 4,
 "nbformat_minor": 5
}
