{
 "cells": [
  {
   "cell_type": "markdown",
   "id": "56f65834-e8d9-494d-9f09-7ee3a7ddb397",
   "metadata": {},
   "source": [
    "# Sets and Lists\n",
    "\n",
    "It is often necessary to group rows together in data pipelines. For example, you might want to represent a *set of neurons* as a *single row*, in order to create a row-oriented analysis pipeline for neuronal populations. `djutils` provides a simple way to do this with minimal boilerplate code with `schema.set` and `schema.list`.\n",
    "\n",
    "---\n",
    "\n",
    "To start, let's create example lookup tables `Neuron` and `Compartment`"
   ]
  },
  {
   "cell_type": "code",
   "execution_count": 1,
   "id": "24b40829-8624-4607-8281-ad1755031d8c",
   "metadata": {
    "tags": []
   },
   "outputs": [
    {
     "name": "stdout",
     "output_type": "stream",
     "text": [
      "Connecting ewang@at-database.ad.bcm.edu:3306\n"
     ]
    }
   ],
   "source": [
    "from djutils import Schema\n",
    "\n",
    "schema = Schema(\"djutils_tutorials_3\")\n",
    "\n",
    "@schema.lookup\n",
    "class Neuron:\n",
    "    definition = \"\"\"\n",
    "    neuron_id     : int          # neuron id\n",
    "    \"\"\"\n",
    "    \n",
    "    contents = [\n",
    "        [0], [1], [2], [3], [4], [5], [6], [7]\n",
    "    ]\n",
    "    \n",
    "    \n",
    "@schema.lookup\n",
    "class Compartment:\n",
    "    definition = \"\"\"\n",
    "    compartment   : varchar(64)  # neuron compartment\n",
    "    \"\"\"\n",
    "    \n",
    "    contents = [\n",
    "        [\"soma\"], [\"axon\"], [\"dendrite\"]\n",
    "    ]"
   ]
  },
  {
   "cell_type": "code",
   "execution_count": 2,
   "id": "5fa5b3df-59c6-4856-a756-46af0d70b522",
   "metadata": {
    "tags": []
   },
   "outputs": [
    {
     "data": {
      "text/html": [
       "\n",
       "        \n",
       "        <style type=\"text/css\">\n",
       "            .Relation{\n",
       "                border-collapse:collapse;\n",
       "            }\n",
       "            .Relation th{\n",
       "                background: #A0A0A0; color: #ffffff; padding:4px; border:#f0e0e0 1px solid;\n",
       "                font-weight: normal; font-family: monospace; font-size: 100%;\n",
       "            }\n",
       "            .Relation td{\n",
       "                padding:4px; border:#f0e0e0 1px solid; font-size:100%;\n",
       "            }\n",
       "            .Relation tr:nth-child(odd){\n",
       "                background: #ffffff;\n",
       "            }\n",
       "            .Relation tr:nth-child(even){\n",
       "                background: #f3f1ff;\n",
       "            }\n",
       "            /* Tooltip container */\n",
       "            .djtooltip {\n",
       "            }\n",
       "            /* Tooltip text */\n",
       "            .djtooltip .djtooltiptext {\n",
       "                visibility: hidden;\n",
       "                width: 120px;\n",
       "                background-color: black;\n",
       "                color: #fff;\n",
       "                text-align: center;\n",
       "                padding: 5px 0;\n",
       "                border-radius: 6px;\n",
       "                /* Position the tooltip text - see examples below! */\n",
       "                position: absolute;\n",
       "                z-index: 1;\n",
       "            }\n",
       "            #primary {\n",
       "                font-weight: bold;\n",
       "                color: black;\n",
       "            }\n",
       "\n",
       "            #nonprimary {\n",
       "                font-weight: normal;\n",
       "                color: white;\n",
       "            }\n",
       "\n",
       "            /* Show the tooltip text when you mouse over the tooltip container */\n",
       "            .djtooltip:hover .djtooltiptext {\n",
       "                visibility: visible;\n",
       "            }\n",
       "        </style>\n",
       "        \n",
       "        <b></b>\n",
       "            <div style=\"max-height:1000px;max-width:1500px;overflow:auto;\">\n",
       "            <table border=\"1\" class=\"Relation\">\n",
       "                <thead> <tr style=\"text-align: right;\"> <th> <div class=\"djtooltip\">\n",
       "                                <p id=\"primary\">neuron_id</p>\n",
       "                                <span class=\"djtooltiptext\">neuron id</span>\n",
       "                            </div> </th> </tr> </thead>\n",
       "                <tbody> <tr> <td>0</td></tr><tr><td>1</td></tr><tr><td>2</td></tr><tr><td>3</td></tr><tr><td>4</td></tr><tr><td>5</td></tr><tr><td>6</td></tr><tr><td>7</td> </tr> </tbody>\n",
       "            </table>\n",
       "            \n",
       "            <p>Total: 8</p></div>\n",
       "            "
      ],
      "text/plain": [
       "*neuron_id   \n",
       "+-----------+\n",
       "0            \n",
       "1            \n",
       "2            \n",
       "3            \n",
       "4            \n",
       "5            \n",
       "6            \n",
       "7            \n",
       " (Total: 8)"
      ]
     },
     "execution_count": 2,
     "metadata": {},
     "output_type": "execute_result"
    }
   ],
   "source": [
    "Neuron()"
   ]
  },
  {
   "cell_type": "code",
   "execution_count": 3,
   "id": "0b6dd4ee-86f0-4d79-b906-e80064bf9bc7",
   "metadata": {
    "tags": []
   },
   "outputs": [
    {
     "data": {
      "text/html": [
       "\n",
       "        \n",
       "        <style type=\"text/css\">\n",
       "            .Relation{\n",
       "                border-collapse:collapse;\n",
       "            }\n",
       "            .Relation th{\n",
       "                background: #A0A0A0; color: #ffffff; padding:4px; border:#f0e0e0 1px solid;\n",
       "                font-weight: normal; font-family: monospace; font-size: 100%;\n",
       "            }\n",
       "            .Relation td{\n",
       "                padding:4px; border:#f0e0e0 1px solid; font-size:100%;\n",
       "            }\n",
       "            .Relation tr:nth-child(odd){\n",
       "                background: #ffffff;\n",
       "            }\n",
       "            .Relation tr:nth-child(even){\n",
       "                background: #f3f1ff;\n",
       "            }\n",
       "            /* Tooltip container */\n",
       "            .djtooltip {\n",
       "            }\n",
       "            /* Tooltip text */\n",
       "            .djtooltip .djtooltiptext {\n",
       "                visibility: hidden;\n",
       "                width: 120px;\n",
       "                background-color: black;\n",
       "                color: #fff;\n",
       "                text-align: center;\n",
       "                padding: 5px 0;\n",
       "                border-radius: 6px;\n",
       "                /* Position the tooltip text - see examples below! */\n",
       "                position: absolute;\n",
       "                z-index: 1;\n",
       "            }\n",
       "            #primary {\n",
       "                font-weight: bold;\n",
       "                color: black;\n",
       "            }\n",
       "\n",
       "            #nonprimary {\n",
       "                font-weight: normal;\n",
       "                color: white;\n",
       "            }\n",
       "\n",
       "            /* Show the tooltip text when you mouse over the tooltip container */\n",
       "            .djtooltip:hover .djtooltiptext {\n",
       "                visibility: visible;\n",
       "            }\n",
       "        </style>\n",
       "        \n",
       "        <b></b>\n",
       "            <div style=\"max-height:1000px;max-width:1500px;overflow:auto;\">\n",
       "            <table border=\"1\" class=\"Relation\">\n",
       "                <thead> <tr style=\"text-align: right;\"> <th> <div class=\"djtooltip\">\n",
       "                                <p id=\"primary\">compartment</p>\n",
       "                                <span class=\"djtooltiptext\">neuron compartment</span>\n",
       "                            </div> </th> </tr> </thead>\n",
       "                <tbody> <tr> <td>axon</td></tr><tr><td>dendrite</td></tr><tr><td>soma</td> </tr> </tbody>\n",
       "            </table>\n",
       "            \n",
       "            <p>Total: 3</p></div>\n",
       "            "
      ],
      "text/plain": [
       "*compartment  \n",
       "+------------+\n",
       "axon          \n",
       "dendrite      \n",
       "soma          \n",
       " (Total: 3)"
      ]
     },
     "execution_count": 3,
     "metadata": {},
     "output_type": "execute_result"
    }
   ],
   "source": [
    "Compartment()"
   ]
  },
  {
   "cell_type": "markdown",
   "id": "ade697bc-84b9-4595-89e8-34ea2a5fe60d",
   "metadata": {},
   "source": [
    "### `schema.set`\n",
    "\n",
    "This is how to create a table for handling sets of rows from `Neuron * Compartment`"
   ]
  },
  {
   "cell_type": "code",
   "execution_count": 4,
   "id": "ab1e5838-a688-4aaf-ac6b-6d776e1a81fe",
   "metadata": {
    "tags": []
   },
   "outputs": [],
   "source": [
    "@schema.set\n",
    "class NeuronCompartmentSet:\n",
    "    keys = [Neuron, Compartment]\n",
    "    name = \"ncset\""
   ]
  },
  {
   "cell_type": "markdown",
   "id": "e9f7fa41-d727-4a24-94e2-16781f1a0eae",
   "metadata": {},
   "source": [
    "The `schema.set` decorator creates an `NeuronCompartmentSet` lookup table with the primary key `{name}_id` (set id) and secondary keys `members` (number of members in the set) and `{name}_ts` (timestamp of set creation)."
   ]
  },
  {
   "cell_type": "code",
   "execution_count": 5,
   "id": "7df5d072-b9c9-4c45-bb54-86a602aee7c6",
   "metadata": {
    "tags": []
   },
   "outputs": [
    {
     "data": {
      "text/plain": [
       "# \n",
       "ncset_id             : char(32)                     # ncset\n",
       "---\n",
       "members              : int unsigned                 # number of members\n",
       "ncset_ts=CURRENT_TIMESTAMP : timestamp                    # automatic timestamp"
      ]
     },
     "execution_count": 5,
     "metadata": {},
     "output_type": "execute_result"
    }
   ],
   "source": [
    "NeuronCompartmentSet.heading"
   ]
  },
  {
   "cell_type": "markdown",
   "id": "9e30dd83-89b9-42a9-8258-613387062977",
   "metadata": {},
   "source": [
    "In addition, `NeuronCompartmentSet.Member` and `NeuronCompartmentSet.Note` part tables are created, which store the members of each set, and optional notes, respectively."
   ]
  },
  {
   "cell_type": "code",
   "execution_count": 6,
   "id": "b5fcc43c-7731-4d98-8087-d1e4f5c820a1",
   "metadata": {
    "tags": []
   },
   "outputs": [
    {
     "data": {
      "text/plain": [
       "# \n",
       "ncset_id             : char(32)                     # ncset\n",
       "neuron_id            : int                          # neuron id\n",
       "compartment          : varchar(64)                  # neuron compartment\n",
       "---\n",
       "ncset_index          : int unsigned                 # set index"
      ]
     },
     "execution_count": 6,
     "metadata": {},
     "output_type": "execute_result"
    }
   ],
   "source": [
    "NeuronCompartmentSet.Member.heading"
   ]
  },
  {
   "cell_type": "code",
   "execution_count": 7,
   "id": "952fdccf-0f90-4ed7-9d5f-52743dadb9d1",
   "metadata": {
    "tags": []
   },
   "outputs": [
    {
     "data": {
      "text/plain": [
       "# \n",
       "ncset_id             : char(32)                     # ncset\n",
       "note                 : varchar(1024)                # note for set\n",
       "---\n",
       "note_ts=CURRENT_TIMESTAMP : timestamp                    # automatic timestamp"
      ]
     },
     "execution_count": 7,
     "metadata": {},
     "output_type": "execute_result"
    }
   ],
   "source": [
    "NeuronCompartmentSet.Note.heading"
   ]
  },
  {
   "cell_type": "markdown",
   "id": "90a0507d-716c-4840-ac48-ea84dc0c8daa",
   "metadata": {},
   "source": [
    "---\n",
    "Use the `fill` method to create sets.\n",
    "\n",
    "Let's say that we want to create a set of axons for neurons 0 to 2. Here is how to do it"
   ]
  },
  {
   "cell_type": "code",
   "execution_count": 8,
   "id": "2e762bf0-abaf-4961-b74c-32f31d027649",
   "metadata": {
    "tags": []
   },
   "outputs": [
    {
     "name": "stdin",
     "output_type": "stream",
     "text": [
      "Insert set with 3 keys? [yes, no]:  yes\n"
     ]
    },
    {
     "name": "stdout",
     "output_type": "stream",
     "text": [
      "{'ncset_id': '894a1d3327254d4b9d01ebcd05d75a00'} inserted.\n"
     ]
    }
   ],
   "source": [
    "key = NeuronCompartmentSet.fill(\n",
    "    'neuron_id >= 0 and neuron_id <= 2 and compartment=\"axon\"'\n",
    ")"
   ]
  },
  {
   "cell_type": "markdown",
   "id": "0ad490dc-d44b-4391-b355-c7f4eb276877",
   "metadata": {},
   "source": [
    "The `fill` method will prompt the user, hash the rows to provide a unique key for the set, display that key and return it to the user."
   ]
  },
  {
   "cell_type": "code",
   "execution_count": 9,
   "id": "da38040f-115e-4d59-8ffd-b3813f097ca3",
   "metadata": {
    "tags": []
   },
   "outputs": [
    {
     "data": {
      "text/plain": [
       "{'ncset_id': '894a1d3327254d4b9d01ebcd05d75a00'}"
      ]
     },
     "execution_count": 9,
     "metadata": {},
     "output_type": "execute_result"
    }
   ],
   "source": [
    "key"
   ]
  },
  {
   "cell_type": "markdown",
   "id": "249ebf12-12f1-4fc6-8087-48d6b767f384",
   "metadata": {},
   "source": [
    "We can see that our `NeuronCompartmentSet` now has one row, corresponding to the set that we just inserted"
   ]
  },
  {
   "cell_type": "code",
   "execution_count": 10,
   "id": "bf9d06af-15bc-468d-b16e-55633d7d4f97",
   "metadata": {
    "tags": []
   },
   "outputs": [
    {
     "data": {
      "text/html": [
       "\n",
       "        \n",
       "        <style type=\"text/css\">\n",
       "            .Relation{\n",
       "                border-collapse:collapse;\n",
       "            }\n",
       "            .Relation th{\n",
       "                background: #A0A0A0; color: #ffffff; padding:4px; border:#f0e0e0 1px solid;\n",
       "                font-weight: normal; font-family: monospace; font-size: 100%;\n",
       "            }\n",
       "            .Relation td{\n",
       "                padding:4px; border:#f0e0e0 1px solid; font-size:100%;\n",
       "            }\n",
       "            .Relation tr:nth-child(odd){\n",
       "                background: #ffffff;\n",
       "            }\n",
       "            .Relation tr:nth-child(even){\n",
       "                background: #f3f1ff;\n",
       "            }\n",
       "            /* Tooltip container */\n",
       "            .djtooltip {\n",
       "            }\n",
       "            /* Tooltip text */\n",
       "            .djtooltip .djtooltiptext {\n",
       "                visibility: hidden;\n",
       "                width: 120px;\n",
       "                background-color: black;\n",
       "                color: #fff;\n",
       "                text-align: center;\n",
       "                padding: 5px 0;\n",
       "                border-radius: 6px;\n",
       "                /* Position the tooltip text - see examples below! */\n",
       "                position: absolute;\n",
       "                z-index: 1;\n",
       "            }\n",
       "            #primary {\n",
       "                font-weight: bold;\n",
       "                color: black;\n",
       "            }\n",
       "\n",
       "            #nonprimary {\n",
       "                font-weight: normal;\n",
       "                color: white;\n",
       "            }\n",
       "\n",
       "            /* Show the tooltip text when you mouse over the tooltip container */\n",
       "            .djtooltip:hover .djtooltiptext {\n",
       "                visibility: visible;\n",
       "            }\n",
       "        </style>\n",
       "        \n",
       "        <b></b>\n",
       "            <div style=\"max-height:1000px;max-width:1500px;overflow:auto;\">\n",
       "            <table border=\"1\" class=\"Relation\">\n",
       "                <thead> <tr style=\"text-align: right;\"> <th> <div class=\"djtooltip\">\n",
       "                                <p id=\"primary\">ncset_id</p>\n",
       "                                <span class=\"djtooltiptext\">ncset</span>\n",
       "                            </div></th><th><div class=\"djtooltip\">\n",
       "                                <p id=\"nonprimary\">members</p>\n",
       "                                <span class=\"djtooltiptext\">number of members</span>\n",
       "                            </div></th><th><div class=\"djtooltip\">\n",
       "                                <p id=\"nonprimary\">ncset_ts</p>\n",
       "                                <span class=\"djtooltiptext\">automatic timestamp</span>\n",
       "                            </div> </th> </tr> </thead>\n",
       "                <tbody> <tr> <td>894a1d3327254d4b9d01ebcd05d75a00</td>\n",
       "<td>3</td>\n",
       "<td>2023-07-08 11:04:39</td> </tr> </tbody>\n",
       "            </table>\n",
       "            \n",
       "            <p>Total: 1</p></div>\n",
       "            "
      ],
      "text/plain": [
       "*ncset_id      members     ncset_ts      \n",
       "+------------+ +---------+ +------------+\n",
       "894a1d3327254d 3           2023-07-08 11:\n",
       " (Total: 1)"
      ]
     },
     "execution_count": 10,
     "metadata": {},
     "output_type": "execute_result"
    }
   ],
   "source": [
    "NeuronCompartmentSet()"
   ]
  },
  {
   "cell_type": "markdown",
   "id": "920ae6d6-6065-4137-ab23-1c8bc9a385b0",
   "metadata": {},
   "source": [
    "And we can use the key to examine the members of the set"
   ]
  },
  {
   "cell_type": "code",
   "execution_count": 11,
   "id": "2e3b0468-ec8b-45e7-9cfb-d3ed0a932f72",
   "metadata": {
    "tags": []
   },
   "outputs": [
    {
     "data": {
      "text/html": [
       "\n",
       "        \n",
       "        <style type=\"text/css\">\n",
       "            .Relation{\n",
       "                border-collapse:collapse;\n",
       "            }\n",
       "            .Relation th{\n",
       "                background: #A0A0A0; color: #ffffff; padding:4px; border:#f0e0e0 1px solid;\n",
       "                font-weight: normal; font-family: monospace; font-size: 100%;\n",
       "            }\n",
       "            .Relation td{\n",
       "                padding:4px; border:#f0e0e0 1px solid; font-size:100%;\n",
       "            }\n",
       "            .Relation tr:nth-child(odd){\n",
       "                background: #ffffff;\n",
       "            }\n",
       "            .Relation tr:nth-child(even){\n",
       "                background: #f3f1ff;\n",
       "            }\n",
       "            /* Tooltip container */\n",
       "            .djtooltip {\n",
       "            }\n",
       "            /* Tooltip text */\n",
       "            .djtooltip .djtooltiptext {\n",
       "                visibility: hidden;\n",
       "                width: 120px;\n",
       "                background-color: black;\n",
       "                color: #fff;\n",
       "                text-align: center;\n",
       "                padding: 5px 0;\n",
       "                border-radius: 6px;\n",
       "                /* Position the tooltip text - see examples below! */\n",
       "                position: absolute;\n",
       "                z-index: 1;\n",
       "            }\n",
       "            #primary {\n",
       "                font-weight: bold;\n",
       "                color: black;\n",
       "            }\n",
       "\n",
       "            #nonprimary {\n",
       "                font-weight: normal;\n",
       "                color: white;\n",
       "            }\n",
       "\n",
       "            /* Show the tooltip text when you mouse over the tooltip container */\n",
       "            .djtooltip:hover .djtooltiptext {\n",
       "                visibility: visible;\n",
       "            }\n",
       "        </style>\n",
       "        \n",
       "        <b></b>\n",
       "            <div style=\"max-height:1000px;max-width:1500px;overflow:auto;\">\n",
       "            <table border=\"1\" class=\"Relation\">\n",
       "                <thead> <tr style=\"text-align: right;\"> <th> <div class=\"djtooltip\">\n",
       "                                <p id=\"primary\">ncset_id</p>\n",
       "                                <span class=\"djtooltiptext\">ncset</span>\n",
       "                            </div></th><th><div class=\"djtooltip\">\n",
       "                                <p id=\"primary\">neuron_id</p>\n",
       "                                <span class=\"djtooltiptext\">neuron id</span>\n",
       "                            </div></th><th><div class=\"djtooltip\">\n",
       "                                <p id=\"primary\">compartment</p>\n",
       "                                <span class=\"djtooltiptext\">neuron compartment</span>\n",
       "                            </div></th><th><div class=\"djtooltip\">\n",
       "                                <p id=\"nonprimary\">ncset_index</p>\n",
       "                                <span class=\"djtooltiptext\">set index</span>\n",
       "                            </div> </th> </tr> </thead>\n",
       "                <tbody> <tr> <td>894a1d3327254d4b9d01ebcd05d75a00</td>\n",
       "<td>0</td>\n",
       "<td>axon</td>\n",
       "<td>0</td></tr><tr><td>894a1d3327254d4b9d01ebcd05d75a00</td>\n",
       "<td>1</td>\n",
       "<td>axon</td>\n",
       "<td>1</td></tr><tr><td>894a1d3327254d4b9d01ebcd05d75a00</td>\n",
       "<td>2</td>\n",
       "<td>axon</td>\n",
       "<td>2</td> </tr> </tbody>\n",
       "            </table>\n",
       "            \n",
       "            <p>Total: 3</p></div>\n",
       "            "
      ],
      "text/plain": [
       "*ncset_id      *neuron_id    *compartment   ncset_index   \n",
       "+------------+ +-----------+ +------------+ +------------+\n",
       "894a1d3327254d 0             axon           0             \n",
       "894a1d3327254d 1             axon           1             \n",
       "894a1d3327254d 2             axon           2             \n",
       " (Total: 3)"
      ]
     },
     "execution_count": 11,
     "metadata": {},
     "output_type": "execute_result"
    }
   ],
   "source": [
    "NeuronCompartmentSet.Member & key"
   ]
  },
  {
   "cell_type": "markdown",
   "id": "e7ca510e-0f7a-45bb-ab06-66f58bc6419a",
   "metadata": {},
   "source": [
    "This is a safer way to access the set members. It returns the same thing as above, but it will first check that the number of members in `NeuronCompartmentSet.Member` matches the `members` value in `NeuronCompartmentSet`"
   ]
  },
  {
   "cell_type": "code",
   "execution_count": 12,
   "id": "a064a8a2-b893-4aec-97bf-601c692109b7",
   "metadata": {
    "tags": []
   },
   "outputs": [
    {
     "data": {
      "text/html": [
       "\n",
       "        \n",
       "        <style type=\"text/css\">\n",
       "            .Relation{\n",
       "                border-collapse:collapse;\n",
       "            }\n",
       "            .Relation th{\n",
       "                background: #A0A0A0; color: #ffffff; padding:4px; border:#f0e0e0 1px solid;\n",
       "                font-weight: normal; font-family: monospace; font-size: 100%;\n",
       "            }\n",
       "            .Relation td{\n",
       "                padding:4px; border:#f0e0e0 1px solid; font-size:100%;\n",
       "            }\n",
       "            .Relation tr:nth-child(odd){\n",
       "                background: #ffffff;\n",
       "            }\n",
       "            .Relation tr:nth-child(even){\n",
       "                background: #f3f1ff;\n",
       "            }\n",
       "            /* Tooltip container */\n",
       "            .djtooltip {\n",
       "            }\n",
       "            /* Tooltip text */\n",
       "            .djtooltip .djtooltiptext {\n",
       "                visibility: hidden;\n",
       "                width: 120px;\n",
       "                background-color: black;\n",
       "                color: #fff;\n",
       "                text-align: center;\n",
       "                padding: 5px 0;\n",
       "                border-radius: 6px;\n",
       "                /* Position the tooltip text - see examples below! */\n",
       "                position: absolute;\n",
       "                z-index: 1;\n",
       "            }\n",
       "            #primary {\n",
       "                font-weight: bold;\n",
       "                color: black;\n",
       "            }\n",
       "\n",
       "            #nonprimary {\n",
       "                font-weight: normal;\n",
       "                color: white;\n",
       "            }\n",
       "\n",
       "            /* Show the tooltip text when you mouse over the tooltip container */\n",
       "            .djtooltip:hover .djtooltiptext {\n",
       "                visibility: visible;\n",
       "            }\n",
       "        </style>\n",
       "        \n",
       "        <b></b>\n",
       "            <div style=\"max-height:1000px;max-width:1500px;overflow:auto;\">\n",
       "            <table border=\"1\" class=\"Relation\">\n",
       "                <thead> <tr style=\"text-align: right;\"> <th> <div class=\"djtooltip\">\n",
       "                                <p id=\"primary\">ncset_id</p>\n",
       "                                <span class=\"djtooltiptext\">ncset</span>\n",
       "                            </div></th><th><div class=\"djtooltip\">\n",
       "                                <p id=\"primary\">neuron_id</p>\n",
       "                                <span class=\"djtooltiptext\">neuron id</span>\n",
       "                            </div></th><th><div class=\"djtooltip\">\n",
       "                                <p id=\"primary\">compartment</p>\n",
       "                                <span class=\"djtooltiptext\">neuron compartment</span>\n",
       "                            </div></th><th><div class=\"djtooltip\">\n",
       "                                <p id=\"nonprimary\">ncset_index</p>\n",
       "                                <span class=\"djtooltiptext\">set index</span>\n",
       "                            </div> </th> </tr> </thead>\n",
       "                <tbody> <tr> <td>894a1d3327254d4b9d01ebcd05d75a00</td>\n",
       "<td>0</td>\n",
       "<td>axon</td>\n",
       "<td>0</td></tr><tr><td>894a1d3327254d4b9d01ebcd05d75a00</td>\n",
       "<td>1</td>\n",
       "<td>axon</td>\n",
       "<td>1</td></tr><tr><td>894a1d3327254d4b9d01ebcd05d75a00</td>\n",
       "<td>2</td>\n",
       "<td>axon</td>\n",
       "<td>2</td> </tr> </tbody>\n",
       "            </table>\n",
       "            \n",
       "            <p>Total: 3</p></div>\n",
       "            "
      ],
      "text/plain": [
       "*ncset_id      *neuron_id    *compartment   ncset_index   \n",
       "+------------+ +-----------+ +------------+ +------------+\n",
       "894a1d3327254d 0             axon           0             \n",
       "894a1d3327254d 1             axon           1             \n",
       "894a1d3327254d 2             axon           2             \n",
       " (Total: 3)"
      ]
     },
     "execution_count": 12,
     "metadata": {},
     "output_type": "execute_result"
    }
   ],
   "source": [
    "(NeuronCompartmentSet & key).members"
   ]
  },
  {
   "cell_type": "markdown",
   "id": "8b4fdd72-a5cf-41f6-8b0b-1a2747eb9112",
   "metadata": {},
   "source": [
    "We can also view notes for the set"
   ]
  },
  {
   "cell_type": "code",
   "execution_count": 13,
   "id": "ead78853-4755-4b80-9f4f-ef04e09f4fbc",
   "metadata": {
    "tags": []
   },
   "outputs": [
    {
     "data": {
      "text/html": [
       "\n",
       "        \n",
       "        <style type=\"text/css\">\n",
       "            .Relation{\n",
       "                border-collapse:collapse;\n",
       "            }\n",
       "            .Relation th{\n",
       "                background: #A0A0A0; color: #ffffff; padding:4px; border:#f0e0e0 1px solid;\n",
       "                font-weight: normal; font-family: monospace; font-size: 100%;\n",
       "            }\n",
       "            .Relation td{\n",
       "                padding:4px; border:#f0e0e0 1px solid; font-size:100%;\n",
       "            }\n",
       "            .Relation tr:nth-child(odd){\n",
       "                background: #ffffff;\n",
       "            }\n",
       "            .Relation tr:nth-child(even){\n",
       "                background: #f3f1ff;\n",
       "            }\n",
       "            /* Tooltip container */\n",
       "            .djtooltip {\n",
       "            }\n",
       "            /* Tooltip text */\n",
       "            .djtooltip .djtooltiptext {\n",
       "                visibility: hidden;\n",
       "                width: 120px;\n",
       "                background-color: black;\n",
       "                color: #fff;\n",
       "                text-align: center;\n",
       "                padding: 5px 0;\n",
       "                border-radius: 6px;\n",
       "                /* Position the tooltip text - see examples below! */\n",
       "                position: absolute;\n",
       "                z-index: 1;\n",
       "            }\n",
       "            #primary {\n",
       "                font-weight: bold;\n",
       "                color: black;\n",
       "            }\n",
       "\n",
       "            #nonprimary {\n",
       "                font-weight: normal;\n",
       "                color: white;\n",
       "            }\n",
       "\n",
       "            /* Show the tooltip text when you mouse over the tooltip container */\n",
       "            .djtooltip:hover .djtooltiptext {\n",
       "                visibility: visible;\n",
       "            }\n",
       "        </style>\n",
       "        \n",
       "        <b></b>\n",
       "            <div style=\"max-height:1000px;max-width:1500px;overflow:auto;\">\n",
       "            <table border=\"1\" class=\"Relation\">\n",
       "                <thead> <tr style=\"text-align: right;\"> <th> <div class=\"djtooltip\">\n",
       "                                <p id=\"primary\">ncset_id</p>\n",
       "                                <span class=\"djtooltiptext\">ncset</span>\n",
       "                            </div></th><th><div class=\"djtooltip\">\n",
       "                                <p id=\"primary\">note</p>\n",
       "                                <span class=\"djtooltiptext\">note for set</span>\n",
       "                            </div></th><th><div class=\"djtooltip\">\n",
       "                                <p id=\"nonprimary\">note_ts</p>\n",
       "                                <span class=\"djtooltiptext\">automatic timestamp</span>\n",
       "                            </div> </th> </tr> </thead>\n",
       "                <tbody> <tr>  </tr> </tbody>\n",
       "            </table>\n",
       "            \n",
       "            <p>Total: 0</p></div>\n",
       "            "
      ],
      "text/plain": [
       "*ncset_id    *note    note_ts    \n",
       "+----------+ +------+ +---------+\n",
       "\n",
       " (Total: 0)"
      ]
     },
     "execution_count": 13,
     "metadata": {},
     "output_type": "execute_result"
    }
   ],
   "source": [
    "NeuronCompartmentSet.Note & key"
   ]
  },
  {
   "cell_type": "markdown",
   "id": "f654a326-388e-4239-a7c3-9d9d9ecb4213",
   "metadata": {},
   "source": [
    ".. Oops, we forgot to add a note. No worries. We can add notes to existing sets by providing a `note` argument to the `fill` function."
   ]
  },
  {
   "cell_type": "code",
   "execution_count": 14,
   "id": "b3e95b81-b39a-4c8f-ae0f-79642199412c",
   "metadata": {
    "tags": []
   },
   "outputs": [
    {
     "name": "stdout",
     "output_type": "stream",
     "text": [
      "{'ncset_id': '894a1d3327254d4b9d01ebcd05d75a00'} already exists.\n",
      "Note for {'ncset_id': '894a1d3327254d4b9d01ebcd05d75a00'} inserted.\n"
     ]
    }
   ],
   "source": [
    "key = NeuronCompartmentSet.fill(\n",
    "    'neuron_id >= 0 and neuron_id <= 2 and compartment=\"axon\"', \n",
    "    note=\"axons of neurons 0 to 2, inclusive\",\n",
    ")"
   ]
  },
  {
   "cell_type": "markdown",
   "id": "b3fe1cce-1035-4177-8fb3-00c7bce2f621",
   "metadata": {},
   "source": [
    "Now we have a note for our set"
   ]
  },
  {
   "cell_type": "code",
   "execution_count": 15,
   "id": "44d81f70-584f-408f-90d6-aba22daa7adb",
   "metadata": {
    "tags": []
   },
   "outputs": [
    {
     "data": {
      "text/html": [
       "\n",
       "        \n",
       "        <style type=\"text/css\">\n",
       "            .Relation{\n",
       "                border-collapse:collapse;\n",
       "            }\n",
       "            .Relation th{\n",
       "                background: #A0A0A0; color: #ffffff; padding:4px; border:#f0e0e0 1px solid;\n",
       "                font-weight: normal; font-family: monospace; font-size: 100%;\n",
       "            }\n",
       "            .Relation td{\n",
       "                padding:4px; border:#f0e0e0 1px solid; font-size:100%;\n",
       "            }\n",
       "            .Relation tr:nth-child(odd){\n",
       "                background: #ffffff;\n",
       "            }\n",
       "            .Relation tr:nth-child(even){\n",
       "                background: #f3f1ff;\n",
       "            }\n",
       "            /* Tooltip container */\n",
       "            .djtooltip {\n",
       "            }\n",
       "            /* Tooltip text */\n",
       "            .djtooltip .djtooltiptext {\n",
       "                visibility: hidden;\n",
       "                width: 120px;\n",
       "                background-color: black;\n",
       "                color: #fff;\n",
       "                text-align: center;\n",
       "                padding: 5px 0;\n",
       "                border-radius: 6px;\n",
       "                /* Position the tooltip text - see examples below! */\n",
       "                position: absolute;\n",
       "                z-index: 1;\n",
       "            }\n",
       "            #primary {\n",
       "                font-weight: bold;\n",
       "                color: black;\n",
       "            }\n",
       "\n",
       "            #nonprimary {\n",
       "                font-weight: normal;\n",
       "                color: white;\n",
       "            }\n",
       "\n",
       "            /* Show the tooltip text when you mouse over the tooltip container */\n",
       "            .djtooltip:hover .djtooltiptext {\n",
       "                visibility: visible;\n",
       "            }\n",
       "        </style>\n",
       "        \n",
       "        <b></b>\n",
       "            <div style=\"max-height:1000px;max-width:1500px;overflow:auto;\">\n",
       "            <table border=\"1\" class=\"Relation\">\n",
       "                <thead> <tr style=\"text-align: right;\"> <th> <div class=\"djtooltip\">\n",
       "                                <p id=\"primary\">ncset_id</p>\n",
       "                                <span class=\"djtooltiptext\">ncset</span>\n",
       "                            </div></th><th><div class=\"djtooltip\">\n",
       "                                <p id=\"primary\">note</p>\n",
       "                                <span class=\"djtooltiptext\">note for set</span>\n",
       "                            </div></th><th><div class=\"djtooltip\">\n",
       "                                <p id=\"nonprimary\">note_ts</p>\n",
       "                                <span class=\"djtooltiptext\">automatic timestamp</span>\n",
       "                            </div> </th> </tr> </thead>\n",
       "                <tbody> <tr> <td>894a1d3327254d4b9d01ebcd05d75a00</td>\n",
       "<td>axons of neurons 0 to 2, inclusive</td>\n",
       "<td>2023-07-08 11:04:46</td> </tr> </tbody>\n",
       "            </table>\n",
       "            \n",
       "            <p>Total: 1</p></div>\n",
       "            "
      ],
      "text/plain": [
       "*ncset_id      *note          note_ts       \n",
       "+------------+ +------------+ +------------+\n",
       "894a1d3327254d axons of neuro 2023-07-08 11:\n",
       " (Total: 1)"
      ]
     },
     "execution_count": 15,
     "metadata": {},
     "output_type": "execute_result"
    }
   ],
   "source": [
    "NeuronCompartmentSet.Note & key"
   ]
  },
  {
   "cell_type": "markdown",
   "id": "00bd6145-d8d2-473b-85a0-954f2df1ffa7",
   "metadata": {},
   "source": [
    "And the set members remain the same"
   ]
  },
  {
   "cell_type": "code",
   "execution_count": 16,
   "id": "338274e2-bd8c-47a2-ad5c-a474e004ddb4",
   "metadata": {
    "tags": []
   },
   "outputs": [
    {
     "data": {
      "text/html": [
       "\n",
       "        \n",
       "        <style type=\"text/css\">\n",
       "            .Relation{\n",
       "                border-collapse:collapse;\n",
       "            }\n",
       "            .Relation th{\n",
       "                background: #A0A0A0; color: #ffffff; padding:4px; border:#f0e0e0 1px solid;\n",
       "                font-weight: normal; font-family: monospace; font-size: 100%;\n",
       "            }\n",
       "            .Relation td{\n",
       "                padding:4px; border:#f0e0e0 1px solid; font-size:100%;\n",
       "            }\n",
       "            .Relation tr:nth-child(odd){\n",
       "                background: #ffffff;\n",
       "            }\n",
       "            .Relation tr:nth-child(even){\n",
       "                background: #f3f1ff;\n",
       "            }\n",
       "            /* Tooltip container */\n",
       "            .djtooltip {\n",
       "            }\n",
       "            /* Tooltip text */\n",
       "            .djtooltip .djtooltiptext {\n",
       "                visibility: hidden;\n",
       "                width: 120px;\n",
       "                background-color: black;\n",
       "                color: #fff;\n",
       "                text-align: center;\n",
       "                padding: 5px 0;\n",
       "                border-radius: 6px;\n",
       "                /* Position the tooltip text - see examples below! */\n",
       "                position: absolute;\n",
       "                z-index: 1;\n",
       "            }\n",
       "            #primary {\n",
       "                font-weight: bold;\n",
       "                color: black;\n",
       "            }\n",
       "\n",
       "            #nonprimary {\n",
       "                font-weight: normal;\n",
       "                color: white;\n",
       "            }\n",
       "\n",
       "            /* Show the tooltip text when you mouse over the tooltip container */\n",
       "            .djtooltip:hover .djtooltiptext {\n",
       "                visibility: visible;\n",
       "            }\n",
       "        </style>\n",
       "        \n",
       "        <b></b>\n",
       "            <div style=\"max-height:1000px;max-width:1500px;overflow:auto;\">\n",
       "            <table border=\"1\" class=\"Relation\">\n",
       "                <thead> <tr style=\"text-align: right;\"> <th> <div class=\"djtooltip\">\n",
       "                                <p id=\"primary\">ncset_id</p>\n",
       "                                <span class=\"djtooltiptext\">ncset</span>\n",
       "                            </div></th><th><div class=\"djtooltip\">\n",
       "                                <p id=\"primary\">neuron_id</p>\n",
       "                                <span class=\"djtooltiptext\">neuron id</span>\n",
       "                            </div></th><th><div class=\"djtooltip\">\n",
       "                                <p id=\"primary\">compartment</p>\n",
       "                                <span class=\"djtooltiptext\">neuron compartment</span>\n",
       "                            </div></th><th><div class=\"djtooltip\">\n",
       "                                <p id=\"nonprimary\">ncset_index</p>\n",
       "                                <span class=\"djtooltiptext\">set index</span>\n",
       "                            </div> </th> </tr> </thead>\n",
       "                <tbody> <tr> <td>894a1d3327254d4b9d01ebcd05d75a00</td>\n",
       "<td>0</td>\n",
       "<td>axon</td>\n",
       "<td>0</td></tr><tr><td>894a1d3327254d4b9d01ebcd05d75a00</td>\n",
       "<td>1</td>\n",
       "<td>axon</td>\n",
       "<td>1</td></tr><tr><td>894a1d3327254d4b9d01ebcd05d75a00</td>\n",
       "<td>2</td>\n",
       "<td>axon</td>\n",
       "<td>2</td> </tr> </tbody>\n",
       "            </table>\n",
       "            \n",
       "            <p>Total: 3</p></div>\n",
       "            "
      ],
      "text/plain": [
       "*ncset_id      *neuron_id    *compartment   ncset_index   \n",
       "+------------+ +-----------+ +------------+ +------------+\n",
       "894a1d3327254d 0             axon           0             \n",
       "894a1d3327254d 1             axon           1             \n",
       "894a1d3327254d 2             axon           2             \n",
       " (Total: 3)"
      ]
     },
     "execution_count": 16,
     "metadata": {},
     "output_type": "execute_result"
    }
   ],
   "source": [
    "(NeuronCompartmentSet & key).members"
   ]
  },
  {
   "cell_type": "markdown",
   "id": "be930c37-8f78-412d-b0c6-198e99e4488b",
   "metadata": {},
   "source": [
    "---\n",
    "\n",
    "For any set that exists in `NeuronCompartment`, to get the key that corresponds to the set restriction, use the `get` function."
   ]
  },
  {
   "cell_type": "code",
   "execution_count": 17,
   "id": "437b2e02-5968-49a7-ac72-459b64a7c7ea",
   "metadata": {
    "tags": []
   },
   "outputs": [
    {
     "data": {
      "text/plain": [
       "{'ncset_id': '894a1d3327254d4b9d01ebcd05d75a00'}"
      ]
     },
     "execution_count": 17,
     "metadata": {},
     "output_type": "execute_result"
    }
   ],
   "source": [
    "key = NeuronCompartmentSet.get(\n",
    "    'neuron_id >= 0 and neuron_id <= 2 and compartment=\"axon\"', \n",
    ")\n",
    "key"
   ]
  },
  {
   "cell_type": "markdown",
   "id": "aab5cc16-1889-4889-9e9a-312d9a213ae9",
   "metadata": {},
   "source": [
    "Note that a djutils `MissingError` will be thrown if that set does not exist in the table."
   ]
  },
  {
   "cell_type": "code",
   "execution_count": 18,
   "id": "dc569fc0-17bc-44a1-846e-accd45d1679b",
   "metadata": {
    "tags": []
   },
   "outputs": [
    {
     "ename": "MissingError",
     "evalue": "Set does not exist.",
     "output_type": "error",
     "traceback": [
      "\u001b[0;31m---------------------------------------------------------------------------\u001b[0m",
      "\u001b[0;31mMissingError\u001b[0m                              Traceback (most recent call last)",
      "Cell \u001b[0;32mIn[18], line 1\u001b[0m\n\u001b[0;32m----> 1\u001b[0m key \u001b[38;5;241m=\u001b[39m \u001b[43mNeuronCompartmentSet\u001b[49m\u001b[38;5;241;43m.\u001b[39;49m\u001b[43mget\u001b[49m\u001b[43m(\u001b[49m\n\u001b[1;32m      2\u001b[0m \u001b[43m    \u001b[49m\u001b[38;5;124;43m'\u001b[39;49m\u001b[38;5;124;43mneuron_id >= 1 and neuron_id <= 3 and compartment=\u001b[39;49m\u001b[38;5;124;43m\"\u001b[39;49m\u001b[38;5;124;43mdendrite\u001b[39;49m\u001b[38;5;124;43m\"\u001b[39;49m\u001b[38;5;124;43m'\u001b[39;49m\u001b[43m,\u001b[49m\u001b[43m \u001b[49m\n\u001b[1;32m      3\u001b[0m \u001b[43m)\u001b[49m\n",
      "File \u001b[0;32m/src/djutils/djutils/sets.py:157\u001b[0m, in \u001b[0;36mSet.get\u001b[0;34m(cls, restriction)\u001b[0m\n\u001b[1;32m    155\u001b[0m     \u001b[38;5;28;01mreturn\u001b[39;00m key\u001b[38;5;241m.\u001b[39mfetch1(dj\u001b[38;5;241m.\u001b[39mkey)\n\u001b[1;32m    156\u001b[0m \u001b[38;5;28;01melse\u001b[39;00m:\n\u001b[0;32m--> 157\u001b[0m     \u001b[38;5;28;01mraise\u001b[39;00m MissingError(\u001b[38;5;124m\"\u001b[39m\u001b[38;5;124mSet does not exist.\u001b[39m\u001b[38;5;124m\"\u001b[39m)\n",
      "\u001b[0;31mMissingError\u001b[0m: Set does not exist."
     ]
    }
   ],
   "source": [
    "key = NeuronCompartmentSet.get(\n",
    "    'neuron_id >= 1 and neuron_id <= 3 and compartment=\"dendrite\"', \n",
    ")"
   ]
  },
  {
   "cell_type": "markdown",
   "id": "d22972be-a35f-4b1e-8732-23d33979151f",
   "metadata": {},
   "source": [
    "---\n",
    "\n",
    "### `schema.list`\n",
    "\n",
    "Sets are unordered, and the `{name}_index` is simply the sorted order of member primary keys. If we want to group together an ordered sequence of rows, we can the `list` table design."
   ]
  },
  {
   "cell_type": "code",
   "execution_count": 19,
   "id": "77708c31-fbd0-4987-a11d-a9b08ad7a750",
   "metadata": {
    "tags": []
   },
   "outputs": [],
   "source": [
    "@schema.list\n",
    "class NeuronCompartmentList:\n",
    "    keys = [Neuron, Compartment]\n",
    "    name = \"ncset\""
   ]
  },
  {
   "cell_type": "markdown",
   "id": "f6e36e0d-4ab1-423f-ac12-2d10cf8eb52d",
   "metadata": {},
   "source": [
    "The master and part tables created by `schema.list` are similar to those created by `schema.set`, except for one major difference:\n",
    "\n",
    "the `{name}_index` of lists resides in the primary key and is user-defined, rather than automatically sorted in `schema.set`"
   ]
  },
  {
   "cell_type": "code",
   "execution_count": 20,
   "id": "a2116e96-9d55-4e7e-8c56-60ccd72b22a4",
   "metadata": {
    "tags": []
   },
   "outputs": [
    {
     "data": {
      "text/plain": [
       "# \n",
       "ncset_id             : char(32)                     # ncset\n",
       "---\n",
       "members              : int unsigned                 # number of members\n",
       "ncset_ts=CURRENT_TIMESTAMP : timestamp                    # automatic timestamp"
      ]
     },
     "execution_count": 20,
     "metadata": {},
     "output_type": "execute_result"
    }
   ],
   "source": [
    "NeuronCompartmentList.heading"
   ]
  },
  {
   "cell_type": "code",
   "execution_count": 21,
   "id": "ed90e5a1-65bc-4d88-bf3d-897a42057a51",
   "metadata": {
    "tags": []
   },
   "outputs": [
    {
     "data": {
      "text/plain": [
       "# \n",
       "ncset_id             : char(32)                     # ncset\n",
       "ncset_index          : int unsigned                 # list index\n",
       "---\n",
       "neuron_id            : int                          # neuron id\n",
       "compartment          : varchar(64)                  # neuron compartment"
      ]
     },
     "execution_count": 21,
     "metadata": {},
     "output_type": "execute_result"
    }
   ],
   "source": [
    "NeuronCompartmentList.Member.heading"
   ]
  },
  {
   "cell_type": "code",
   "execution_count": 22,
   "id": "0dd7a994-b4d4-4dca-b9cb-533e2953a303",
   "metadata": {
    "tags": []
   },
   "outputs": [
    {
     "data": {
      "text/plain": [
       "# \n",
       "ncset_id             : char(32)                     # ncset\n",
       "note                 : varchar(1024)                # note for list\n",
       "---\n",
       "note_ts=CURRENT_TIMESTAMP : timestamp                    # automatic timestamp"
      ]
     },
     "execution_count": 22,
     "metadata": {},
     "output_type": "execute_result"
    }
   ],
   "source": [
    "NeuronCompartmentList.Note.heading"
   ]
  },
  {
   "cell_type": "markdown",
   "id": "fb153c69-bb46-47a5-8321-ed877eb09734",
   "metadata": {},
   "source": [
    "To create a list of rows, we provide an list of restrictions to the `fill` method, where each restriction restricts the members to a **single row**"
   ]
  },
  {
   "cell_type": "code",
   "execution_count": 23,
   "id": "5d1bb1a8-05c5-4cb5-b79e-0be4f31cd7a3",
   "metadata": {
    "tags": []
   },
   "outputs": [
    {
     "name": "stdin",
     "output_type": "stream",
     "text": [
      "Insert list with 3 keys? [yes, no]:  yes\n"
     ]
    },
    {
     "name": "stdout",
     "output_type": "stream",
     "text": [
      "{'ncset_id': '073485bf41e3ceb9e0cda0a16906f177'} inserted.\n",
      "Note for {'ncset_id': '073485bf41e3ceb9e0cda0a16906f177'} inserted.\n"
     ]
    }
   ],
   "source": [
    "key = NeuronCompartmentList.fill(\n",
    "    [\n",
    "        'neuron_id=1 and compartment=\"axon\"',\n",
    "        'neuron_id=0 and compartment=\"axon\"', \n",
    "        'neuron_id=2 and compartment=\"axon\"',\n",
    "    ],\n",
    "    note=\"example list of neuron axons\"\n",
    ")"
   ]
  },
  {
   "cell_type": "code",
   "execution_count": 24,
   "id": "f0309eb2-37ae-4532-ba87-b14c0ef7a347",
   "metadata": {
    "tags": []
   },
   "outputs": [
    {
     "data": {
      "text/html": [
       "\n",
       "        \n",
       "        <style type=\"text/css\">\n",
       "            .Relation{\n",
       "                border-collapse:collapse;\n",
       "            }\n",
       "            .Relation th{\n",
       "                background: #A0A0A0; color: #ffffff; padding:4px; border:#f0e0e0 1px solid;\n",
       "                font-weight: normal; font-family: monospace; font-size: 100%;\n",
       "            }\n",
       "            .Relation td{\n",
       "                padding:4px; border:#f0e0e0 1px solid; font-size:100%;\n",
       "            }\n",
       "            .Relation tr:nth-child(odd){\n",
       "                background: #ffffff;\n",
       "            }\n",
       "            .Relation tr:nth-child(even){\n",
       "                background: #f3f1ff;\n",
       "            }\n",
       "            /* Tooltip container */\n",
       "            .djtooltip {\n",
       "            }\n",
       "            /* Tooltip text */\n",
       "            .djtooltip .djtooltiptext {\n",
       "                visibility: hidden;\n",
       "                width: 120px;\n",
       "                background-color: black;\n",
       "                color: #fff;\n",
       "                text-align: center;\n",
       "                padding: 5px 0;\n",
       "                border-radius: 6px;\n",
       "                /* Position the tooltip text - see examples below! */\n",
       "                position: absolute;\n",
       "                z-index: 1;\n",
       "            }\n",
       "            #primary {\n",
       "                font-weight: bold;\n",
       "                color: black;\n",
       "            }\n",
       "\n",
       "            #nonprimary {\n",
       "                font-weight: normal;\n",
       "                color: white;\n",
       "            }\n",
       "\n",
       "            /* Show the tooltip text when you mouse over the tooltip container */\n",
       "            .djtooltip:hover .djtooltiptext {\n",
       "                visibility: visible;\n",
       "            }\n",
       "        </style>\n",
       "        \n",
       "        <b></b>\n",
       "            <div style=\"max-height:1000px;max-width:1500px;overflow:auto;\">\n",
       "            <table border=\"1\" class=\"Relation\">\n",
       "                <thead> <tr style=\"text-align: right;\"> <th> <div class=\"djtooltip\">\n",
       "                                <p id=\"primary\">ncset_id</p>\n",
       "                                <span class=\"djtooltiptext\">ncset</span>\n",
       "                            </div></th><th><div class=\"djtooltip\">\n",
       "                                <p id=\"nonprimary\">members</p>\n",
       "                                <span class=\"djtooltiptext\">number of members</span>\n",
       "                            </div></th><th><div class=\"djtooltip\">\n",
       "                                <p id=\"nonprimary\">ncset_ts</p>\n",
       "                                <span class=\"djtooltiptext\">automatic timestamp</span>\n",
       "                            </div> </th> </tr> </thead>\n",
       "                <tbody> <tr> <td>073485bf41e3ceb9e0cda0a16906f177</td>\n",
       "<td>3</td>\n",
       "<td>2023-07-08 11:05:01</td> </tr> </tbody>\n",
       "            </table>\n",
       "            \n",
       "            <p>Total: 1</p></div>\n",
       "            "
      ],
      "text/plain": [
       "*ncset_id      members     ncset_ts      \n",
       "+------------+ +---------+ +------------+\n",
       "073485bf41e3ce 3           2023-07-08 11:\n",
       " (Total: 1)"
      ]
     },
     "execution_count": 24,
     "metadata": {},
     "output_type": "execute_result"
    }
   ],
   "source": [
    "NeuronCompartmentList()"
   ]
  },
  {
   "cell_type": "code",
   "execution_count": 25,
   "id": "312403d5-5999-4ad8-a0aa-e51e7e465e71",
   "metadata": {
    "tags": []
   },
   "outputs": [
    {
     "data": {
      "text/html": [
       "\n",
       "        \n",
       "        <style type=\"text/css\">\n",
       "            .Relation{\n",
       "                border-collapse:collapse;\n",
       "            }\n",
       "            .Relation th{\n",
       "                background: #A0A0A0; color: #ffffff; padding:4px; border:#f0e0e0 1px solid;\n",
       "                font-weight: normal; font-family: monospace; font-size: 100%;\n",
       "            }\n",
       "            .Relation td{\n",
       "                padding:4px; border:#f0e0e0 1px solid; font-size:100%;\n",
       "            }\n",
       "            .Relation tr:nth-child(odd){\n",
       "                background: #ffffff;\n",
       "            }\n",
       "            .Relation tr:nth-child(even){\n",
       "                background: #f3f1ff;\n",
       "            }\n",
       "            /* Tooltip container */\n",
       "            .djtooltip {\n",
       "            }\n",
       "            /* Tooltip text */\n",
       "            .djtooltip .djtooltiptext {\n",
       "                visibility: hidden;\n",
       "                width: 120px;\n",
       "                background-color: black;\n",
       "                color: #fff;\n",
       "                text-align: center;\n",
       "                padding: 5px 0;\n",
       "                border-radius: 6px;\n",
       "                /* Position the tooltip text - see examples below! */\n",
       "                position: absolute;\n",
       "                z-index: 1;\n",
       "            }\n",
       "            #primary {\n",
       "                font-weight: bold;\n",
       "                color: black;\n",
       "            }\n",
       "\n",
       "            #nonprimary {\n",
       "                font-weight: normal;\n",
       "                color: white;\n",
       "            }\n",
       "\n",
       "            /* Show the tooltip text when you mouse over the tooltip container */\n",
       "            .djtooltip:hover .djtooltiptext {\n",
       "                visibility: visible;\n",
       "            }\n",
       "        </style>\n",
       "        \n",
       "        <b></b>\n",
       "            <div style=\"max-height:1000px;max-width:1500px;overflow:auto;\">\n",
       "            <table border=\"1\" class=\"Relation\">\n",
       "                <thead> <tr style=\"text-align: right;\"> <th> <div class=\"djtooltip\">\n",
       "                                <p id=\"primary\">ncset_id</p>\n",
       "                                <span class=\"djtooltiptext\">ncset</span>\n",
       "                            </div></th><th><div class=\"djtooltip\">\n",
       "                                <p id=\"primary\">ncset_index</p>\n",
       "                                <span class=\"djtooltiptext\">list index</span>\n",
       "                            </div></th><th><div class=\"djtooltip\">\n",
       "                                <p id=\"nonprimary\">neuron_id</p>\n",
       "                                <span class=\"djtooltiptext\">neuron id</span>\n",
       "                            </div></th><th><div class=\"djtooltip\">\n",
       "                                <p id=\"nonprimary\">compartment</p>\n",
       "                                <span class=\"djtooltiptext\">neuron compartment</span>\n",
       "                            </div> </th> </tr> </thead>\n",
       "                <tbody> <tr> <td>073485bf41e3ceb9e0cda0a16906f177</td>\n",
       "<td>0</td>\n",
       "<td>1</td>\n",
       "<td>axon</td></tr><tr><td>073485bf41e3ceb9e0cda0a16906f177</td>\n",
       "<td>1</td>\n",
       "<td>0</td>\n",
       "<td>axon</td></tr><tr><td>073485bf41e3ceb9e0cda0a16906f177</td>\n",
       "<td>2</td>\n",
       "<td>2</td>\n",
       "<td>axon</td> </tr> </tbody>\n",
       "            </table>\n",
       "            \n",
       "            <p>Total: 3</p></div>\n",
       "            "
      ],
      "text/plain": [
       "*ncset_id      *ncset_index   neuron_id     compartment   \n",
       "+------------+ +------------+ +-----------+ +------------+\n",
       "073485bf41e3ce 0              1             axon          \n",
       "073485bf41e3ce 1              0             axon          \n",
       "073485bf41e3ce 2              2             axon          \n",
       " (Total: 3)"
      ]
     },
     "execution_count": 25,
     "metadata": {},
     "output_type": "execute_result"
    }
   ],
   "source": [
    "(NeuronCompartmentList & key).members"
   ]
  },
  {
   "cell_type": "code",
   "execution_count": 26,
   "id": "9a88dee1-16ff-4ada-8b94-7899b69004c8",
   "metadata": {
    "tags": []
   },
   "outputs": [
    {
     "data": {
      "text/html": [
       "\n",
       "        \n",
       "        <style type=\"text/css\">\n",
       "            .Relation{\n",
       "                border-collapse:collapse;\n",
       "            }\n",
       "            .Relation th{\n",
       "                background: #A0A0A0; color: #ffffff; padding:4px; border:#f0e0e0 1px solid;\n",
       "                font-weight: normal; font-family: monospace; font-size: 100%;\n",
       "            }\n",
       "            .Relation td{\n",
       "                padding:4px; border:#f0e0e0 1px solid; font-size:100%;\n",
       "            }\n",
       "            .Relation tr:nth-child(odd){\n",
       "                background: #ffffff;\n",
       "            }\n",
       "            .Relation tr:nth-child(even){\n",
       "                background: #f3f1ff;\n",
       "            }\n",
       "            /* Tooltip container */\n",
       "            .djtooltip {\n",
       "            }\n",
       "            /* Tooltip text */\n",
       "            .djtooltip .djtooltiptext {\n",
       "                visibility: hidden;\n",
       "                width: 120px;\n",
       "                background-color: black;\n",
       "                color: #fff;\n",
       "                text-align: center;\n",
       "                padding: 5px 0;\n",
       "                border-radius: 6px;\n",
       "                /* Position the tooltip text - see examples below! */\n",
       "                position: absolute;\n",
       "                z-index: 1;\n",
       "            }\n",
       "            #primary {\n",
       "                font-weight: bold;\n",
       "                color: black;\n",
       "            }\n",
       "\n",
       "            #nonprimary {\n",
       "                font-weight: normal;\n",
       "                color: white;\n",
       "            }\n",
       "\n",
       "            /* Show the tooltip text when you mouse over the tooltip container */\n",
       "            .djtooltip:hover .djtooltiptext {\n",
       "                visibility: visible;\n",
       "            }\n",
       "        </style>\n",
       "        \n",
       "        <b></b>\n",
       "            <div style=\"max-height:1000px;max-width:1500px;overflow:auto;\">\n",
       "            <table border=\"1\" class=\"Relation\">\n",
       "                <thead> <tr style=\"text-align: right;\"> <th> <div class=\"djtooltip\">\n",
       "                                <p id=\"primary\">ncset_id</p>\n",
       "                                <span class=\"djtooltiptext\">ncset</span>\n",
       "                            </div></th><th><div class=\"djtooltip\">\n",
       "                                <p id=\"primary\">note</p>\n",
       "                                <span class=\"djtooltiptext\">note for list</span>\n",
       "                            </div></th><th><div class=\"djtooltip\">\n",
       "                                <p id=\"nonprimary\">note_ts</p>\n",
       "                                <span class=\"djtooltiptext\">automatic timestamp</span>\n",
       "                            </div> </th> </tr> </thead>\n",
       "                <tbody> <tr> <td>073485bf41e3ceb9e0cda0a16906f177</td>\n",
       "<td>example list of neuron axons</td>\n",
       "<td>2023-07-08 11:05:01</td> </tr> </tbody>\n",
       "            </table>\n",
       "            \n",
       "            <p>Total: 1</p></div>\n",
       "            "
      ],
      "text/plain": [
       "*ncset_id      *note          note_ts       \n",
       "+------------+ +------------+ +------------+\n",
       "073485bf41e3ce example list o 2023-07-08 11:\n",
       " (Total: 1)"
      ]
     },
     "execution_count": 26,
     "metadata": {},
     "output_type": "execute_result"
    }
   ],
   "source": [
    "NeuronCompartmentList.Note & key"
   ]
  },
  {
   "cell_type": "code",
   "execution_count": 27,
   "id": "3c6c5252-4549-45bc-80d0-eee2558398cf",
   "metadata": {
    "tags": []
   },
   "outputs": [
    {
     "data": {
      "text/plain": [
       "{'ncset_id': '073485bf41e3ceb9e0cda0a16906f177'}"
      ]
     },
     "execution_count": 27,
     "metadata": {},
     "output_type": "execute_result"
    }
   ],
   "source": [
    "key = NeuronCompartmentList.get(\n",
    "    [\n",
    "        'neuron_id=1 and compartment=\"axon\"',\n",
    "        'neuron_id=0 and compartment=\"axon\"', \n",
    "        'neuron_id=2 and compartment=\"axon\"',\n",
    "    ]\n",
    ")\n",
    "key"
   ]
  }
 ],
 "metadata": {
  "kernelspec": {
   "display_name": "Python 3 (ipykernel)",
   "language": "python",
   "name": "python3"
  },
  "language_info": {
   "codemirror_mode": {
    "name": "ipython",
    "version": 3
   },
   "file_extension": ".py",
   "mimetype": "text/x-python",
   "name": "python",
   "nbconvert_exporter": "python",
   "pygments_lexer": "ipython3",
   "version": "3.8.16"
  }
 },
 "nbformat": 4,
 "nbformat_minor": 5
}
